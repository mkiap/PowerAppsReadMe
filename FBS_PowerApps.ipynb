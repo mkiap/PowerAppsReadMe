{
  "nbformat": 4,
  "nbformat_minor": 0,
  "metadata": {
    "colab": {
      "name": "FBS_PowerApps.ipynb",
      "provenance": [],
      "collapsed_sections": [
        "ibljM1RLJyaM",
        "yqAU37RHJ4Ik"
      ],
      "toc_visible": true,
      "authorship_tag": "ABX9TyNtYTgU9xbit7gTsRFMqBJn"
    },
    "kernelspec": {
      "name": "python3",
      "display_name": "Python 3"
    },
    "language_info": {
      "name": "python"
    }
  },
  "cells": [
    {
      "cell_type": "markdown",
      "source": [
        "## End to End Facility Booking System Powerapps ⏰\n",
        "---"
      ],
      "metadata": {
        "id": "ufl51u5YFVQR"
      }
    },
    {
      "cell_type": "markdown",
      "source": [
        "## 1. Problem\n"
      ],
      "metadata": {
        "id": "kATDu5-rF-vG"
      }
    },
    {
      "cell_type": "markdown",
      "source": [
        "The company would like to replace the current facility booking system with another platform in MS Powerapp. "
      ],
      "metadata": {
        "id": "oCpq_G75Filq"
      }
    },
    {
      "cell_type": "markdown",
      "source": [
        "## 2. Prototype\n",
        "\n",
        "* The solution will be developed in Mitsui environment\n",
        "\n",
        ">https://make.powerapps.com/e/Default-ffb76b20-b480-4230-8bf5-23ec920b1ce3/canvas/?action=edit&app-id=%2Fproviders%2FMicrosoft.PowerApps%2Fapps%2Fe14a3b3a-bda4-4b97-9f89-a99bb3b28225 \n",
        "\n",
        "* A github account is created to allow co-authoring with multiple developers. Co-Authoring is an experimental feature just released by PowerApps team. \n",
        "\n",
        "> https://docs.microsoft.com/en-us/powerapps/maker/canvas-apps/git-version-control\n"
      ],
      "metadata": {
        "id": "Pc_ad1tvLb_T"
      }
    },
    {
      "cell_type": "markdown",
      "source": [
        "## 3. Evaluation"
      ],
      "metadata": {
        "id": "nXGFe1lNKzQ7"
      }
    },
    {
      "cell_type": "markdown",
      "source": [
        "For the project to be a success, it must fulfil the following:\n",
        "\n",
        "Priorities:\n",
        "1. Conference room booking.\n",
        "2. Golf course and others (Golf kit, Zoo, Bungalow, etc.) booking\n",
        "3. Driver booking.\n",
        "\n"
      ],
      "metadata": {
        "id": "XwDTOxsLKHXl"
      }
    },
    {
      "cell_type": "markdown",
      "source": [
        "## Outstanding Tasks"
      ],
      "metadata": {
        "id": "evsxROWd6RpW"
      }
    },
    {
      "cell_type": "markdown",
      "source": [
        "\n",
        "* Create API for SMS (commzgate / twilio) \n",
        "* Create edit screen for meeting\n",
        "* Consider email address for external emails.\n",
        "\n",
        "* Think of a way to filter gallery upon icon selection\n",
        "* Consider add \"All\" with Resource category\n",
        "\n",
        "* Add calendar & time selection screen\n",
        "* Admin, User access\n",
        "\n",
        "* Create rooms / mailbox resource to get list of calendars. https://docs.microsoft.com/en-us/microsoft-365/admin/manage/room-and-equipment-mailboxes?view=o365-worldwide\n",
        "* https://powerusers.microsoft.com/t5/Building-Power-Apps/How-to-get-Resource-room-s-Calendar-ID/m-p/327815\n"
      ],
      "metadata": {
        "id": "f8mGs0ME6VEr"
      }
    },
    {
      "cell_type": "markdown",
      "source": [
        "## Completed\n",
        "\n",
        "* Add facility selection screen ✔\n",
        "* Add SPO list for Facilities ✔\n",
        "* Add date selection screen ✔\n",
        "* Add Create Meeting screen base on user selection ✔"
      ],
      "metadata": {
        "id": "FT9it6P06bKM"
      }
    },
    {
      "cell_type": "markdown",
      "source": [
        ""
      ],
      "metadata": {
        "id": "p834h1x76fc4"
      }
    },
    {
      "cell_type": "markdown",
      "source": [
        "# Resource"
      ],
      "metadata": {
        "id": "o4euio31_Wnw"
      }
    },
    {
      "cell_type": "markdown",
      "source": [
        "\n",
        "* Create teams meeting using Powerapps\n",
        " https://www.youtube.com/watch?v=hPRzHbMzoI0\n",
        "\n",
        "* Find out how to edit here\n",
        "https://www.youtube.com/watch?v=8MzqVLcaioc\n",
        "\n",
        "* Create Sharepoint List with existing list https://www.sharepointdiary.com/2017/08/sharepoint-online-save-list-as-template-missing.html\n",
        "\n",
        "* Markdown Guide https://colab.research.google.com/notebooks/markdown_guide.ipynb#scrollTo=Lhfnlq1Surtk\n",
        "\n",
        "* PowerApps filter gallery by dropdown https://www.youtube.com/watch?v=kLGglidmPxg&t=555s\n",
        "\n",
        "* Power Apps Reset a Gallery and varRecord instead of Selected https://www.youtube.com/watch?v=691pRyRHWBU\n",
        "* Power Apps Dropdown Control - Cascading, Filtering, Allow Empty, Outputs, and more https://www.youtube.com/watch?v=SKMwayf_cuM&t=1158s"
      ],
      "metadata": {
        "id": "x73qsmYL_ilU"
      }
    },
    {
      "cell_type": "markdown",
      "source": [
        "# Setting Up SPO"
      ],
      "metadata": {
        "id": "07k9m75Q3jkZ"
      }
    },
    {
      "cell_type": "markdown",
      "source": [
        "* Create SPO list with the following"
      ],
      "metadata": {
        "id": "h28M8X3B3oHu"
      }
    },
    {
      "cell_type": "markdown",
      "source": [
        "# Development Logs\n",
        "\n",
        "---"
      ],
      "metadata": {
        "id": "bcTFawxl_GYF"
      }
    },
    {
      "cell_type": "markdown",
      "source": [
        "## 19-Jan-2022"
      ],
      "metadata": {
        "id": "ibljM1RLJyaM"
      }
    },
    {
      "cell_type": "markdown",
      "source": [
        "\n",
        "* Created new screen called scrMeetingInput\n",
        "* Need to tweak the screen to match outlook\n",
        "* When user select a facility, this value needs to parse to scrMeetingInput so user do not have to key in again\n",
        "* After input all values, scrMeetingInput values needs to clear\n",
        "\n",
        "\n",
        "\n",
        "\n",
        "\n",
        "\n"
      ],
      "metadata": {
        "id": "_cQoZn02F4rz"
      }
    },
    {
      "cell_type": "markdown",
      "source": [
        "## 20-Jan-2022"
      ],
      "metadata": {
        "id": "yqAU37RHJ4Ik"
      }
    },
    {
      "cell_type": "markdown",
      "source": [
        "\n",
        "* From template desk booking, created a screen for all bookings is made. This is done removing the limation of gallery to specific user.\n"
      ],
      "metadata": {
        "id": "sj8_LxznHOFh"
      }
    },
    {
      "cell_type": "markdown",
      "source": [
        "Original\n",
        "\n",
        "```\n",
        "SortByColumns(\n",
        "    Filter(\n",
        "        'Desks Reservations List',\n",
        "        'Reserved By'.Email = currentUser.Email && 'Check Out From Number' >= Value(\n",
        "            Text(\n",
        "                Today(),\n",
        "                \"yyyymmddhmm\"\n",
        "            )\n",
        "        )\n",
        "    ),\n",
        "    \"CheckOutFromNumber\",\n",
        "    Ascending\n",
        ")\n",
        "```\n",
        "\n"
      ],
      "metadata": {
        "id": "FhKUi0b3Ixjz"
      }
    },
    {
      "cell_type": "markdown",
      "source": [
        "Modified\n",
        "\n",
        "```\n",
        "SortByColumns(Filter('Desks Reservations List', DeskText = Dropdown1.Selected.Name, 'Check Out From Number' >= Value(\n",
        "            Text(\n",
        "                Today(),\n",
        "                \"yyyymmddhmm\"\n",
        "            )\n",
        "        )\n",
        "    ),\n",
        "    \"CheckOutFromNumber\",\n",
        "    Ascending\n",
        ")\n",
        "```\n",
        "\n"
      ],
      "metadata": {
        "id": "KefEggwVJa_F"
      }
    },
    {
      "cell_type": "markdown",
      "source": [
        "Excellent, by removing the limit of gallery = currentUser, the gallery now displays all boookings related to the facility. \n",
        "\n",
        "In the All appointment screen, the button to edit booking has been modified. Only the current user is able to modify their current booking.\n",
        "\n",
        "The meeting organizer cannot add himself into the meeting invite."
      ],
      "metadata": {
        "id": "FPdlFN0RMDyD"
      }
    },
    {
      "cell_type": "markdown",
      "source": [
        "## 24-Jan-2022"
      ],
      "metadata": {
        "id": "PnyIQCF6NB9K"
      }
    },
    {
      "cell_type": "markdown",
      "source": [
        "* Previous was 1 each ( Hour / Min / Day). Combine to 1 dropdown timing with interval of 15 minutes instead."
      ],
      "metadata": {
        "id": "o67wdbbUND6W"
      }
    },
    {
      "cell_type": "markdown",
      "source": [
        "```\n",
        "With(\n",
        "    {Interval: 15},\n",
        "    ForAll(\n",
        "        Sequence(60 * 24 / Interval),\n",
        "        Time(\n",
        "            0,\n",
        "            Interval * (Value - 1),\n",
        "            0\n",
        "        )\n",
        "    )\n",
        ")\n",
        "```"
      ],
      "metadata": {
        "id": "zZ0NYH5mCkxz"
      }
    },
    {
      "cell_type": "markdown",
      "source": [
        ""
      ],
      "metadata": {
        "id": "tN1StQaYXben"
      }
    },
    {
      "cell_type": "markdown",
      "source": [
        "* Create facility list base on excel FacilityCategory.Xlsx\n",
        "\n",
        "![image.png](data:image/png;base64,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)"
      ],
      "metadata": {
        "id": "0U_YbBNdCrwS"
      }
    },
    {
      "cell_type": "markdown",
      "source": [
        "* Remove duplicate value in Select one or multiple resource.\n",
        "* galFacilitySelection not working as expected.\n",
        "\n",
        "\n",
        "\n",
        "\n",
        "\n",
        "\n",
        "\n",
        "\n",
        "\n",
        "\n",
        "\n",
        "\n",
        "\n",
        "\n",
        "\n",
        "\n",
        "\n",
        "\n",
        "\n",
        "\n",
        "\n",
        "\n",
        "\n",
        "\n",
        "\n",
        "\n",
        "\n",
        "\n",
        "\n",
        "\n",
        "\n",
        "\n",
        "\n",
        "\n",
        "\n",
        "\n",
        "\n",
        "\n",
        "\n",
        "\n",
        "\n",
        "\n",
        "\n",
        "\n",
        "\n",
        "\n",
        "\n"
      ],
      "metadata": {
        "id": "muJshJ7QjlBj"
      }
    },
    {
      "cell_type": "markdown",
      "source": [
        "## 27-Jan-2022"
      ],
      "metadata": {
        "id": "4mN2S98KeoSy"
      }
    },
    {
      "cell_type": "markdown",
      "source": [
        "* Added Resource Category to look at Distinct. Not sure if able to default selection to all instead. \n",
        "* Tried to clear collect and add All to list of distinct Facility list. But that would mean dropdown selection would reset each time. Need to rethink if user press back, add an option to prevent user to append same item to collection ```[SelectedFacility]``` instead\n",
        "\n",
        "![image.png](data:image/png;base64,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)"
      ],
      "metadata": {
        "id": "RPzdjGE2ej5t"
      }
    },
    {
      "cell_type": "markdown",
      "source": [
        "* Added warning to button that prevents user to proceed without making any selection"
      ],
      "metadata": {
        "id": "GLvJLGmme3BK"
      }
    },
    {
      "cell_type": "markdown",
      "source": [
        "```\n",
        "If(\n",
        "    IsEmpty(SelectedFacility),\n",
        "    Notify(\n",
        "        \"Please select a facility to continue\",\n",
        "        NotificationType.Warning\n",
        "    ),\n",
        "    Navigate(\n",
        "        scrDateSelection,\n",
        "        ScreenTransition.Fade\n",
        "    )\n",
        ")\n",
        "```"
      ],
      "metadata": {
        "id": "izeB0PThf1e2"
      }
    },
    {
      "cell_type": "markdown",
      "source": [
        "https://powerusers.microsoft.com/t5/Building-Power-Apps/Add-Other-option-to-cascading-drop-down-list/m-p/896063#M284365"
      ],
      "metadata": {
        "id": "vyC33ZD-xdwZ"
      }
    },
    {
      "cell_type": "markdown",
      "source": [
        "## 03-Feb-2022"
      ],
      "metadata": {
        "id": "rDdmgfbHzSZg"
      }
    },
    {
      "cell_type": "markdown",
      "source": [
        "* Added Date Selection Screen using component\n",
        "\n",
        "![Capture.JPG](data:image/jpeg;base64,/9j/4AAQSkZJRgABAQEAYABgAAD/4REWRXhpZgAATU0AKgAAAAgABAE7AAIAAAAZAAAISodpAAQAAAABAAAIZJydAAEAAAAyAAAQ3OocAAcAAAgMAAAAPgAAAAAc6gAAAAgAAAAAAAAAAAAAAAAAAAAAAAAAAAAAAAAAAAAAAAAAAAAAAAAAAAAAAAAAAAAAAAAAAAAAAAAAAAAAAAAAAAAAAAAAAAAAAAAAAAAAAAAAAAAAAAAAAAAAAAAAAAAAAAAAAAAAAAAAAAAAAAAAAAAAAAAAAAAAAAAAAAAAAAAAAAAAAAAAAAAAAAAAAAAAAAAAAAAAAAAAAAAAAAAAAAAAAAAAAAAAAAAAAAAAAAAAAAAAAAAAAAAAAAAAAAAAAAAAAAAAAAAAAAAAAAAAAAAAAAAAAAAAAAAAAAAAAAAAAAAAAAAAAAAAAAAAAAAAAAAAAAAAAAAAAAAAAAAAAAAAAAAAAAAAAAAAAAAAAAAAAAAAAAAAAAAAAAAAAAAAAAAAAAAAAAAAAAAAAAAAAAAAAAAAAAAAAAAAAAAAAAAAAAAAAAAAAAAAAAAAAAAAAAAAAAAAAAAAAAAAAAAAAAAAAAAAAAAAAAAAAAAAAAAAAAAAAAAAAAAAAAAAAAAAAAAAAAAAAAAAAAAAAAAAAAAAAAAAAAAAAAAAAAAAAAAAAAAAAAAAAAAAAAAAAAAAAAAAAAAAAAAAAAAAAAAAAAAAAAAAAAAAAAAAAAAAAAAAAAAAAAAAAAAAAAAAAAAAAAAAAAAAAAAAAAAAAAAAAAAAAAAAAAAAAAAAAAAAAAAAAAAAAAAAAAAAAAAAAAAAAAAAAAAAAAAAAAAAAAAAAAAAAAAAAAAAAAAAAAAAAAAAAAAAAAAAAAAAAAAAAAAAAAAAAAAAAAAAAAAAAAAAAAAAAAAAAAAAAAAAAAAAAAAAAAAAAAAAAAAAAAAAAAAAAAAAAAAAAAAAAAAAAAAAAAAAAAAAAAAAAAAAAAAAAAAAAAAAAAAAAAAAAAAAAAAAAAAAAAAAAAAAAAAAAAAAAAAAAAAAAAAAAAAAAAAAAAAAAAAAAAAAAAAAAAAAAAAAAAAAAAAAAAAAAAAAAAAAAAAAAAAAAAAAAAAAAAAAAAAAAAAAAAAAAAAAAAAAAAAAAAAAAAAAAAAAAAAAAAAAAAAAAAAAAAAAAAAAAAAAAAAAAAAAAAAAAAAAAAAAAAAAAAAAAAAAAAAAAAAAAAAAAAAAAAAAAAAAAAAAAAAAAAAAAAAAAAAAAAAAAAAAAAAAAAAAAAAAAAAAAAAAAAAAAAAAAAAAAAAAAAAAAAAAAAAAAAAAAAAAAAAAAAAAAAAAAAAAAAAAAAAAAAAAAAAAAAAAAAAAAAAAAAAAAAAAAAAAAAAAAAAAAAAAAAAAAAAAAAAAAAAAAAAAAAAAAAAAAAAAAAAAAAAAAAAAAAAAAAAAAAAAAAAAAAAAAAAAAAAAAAAAAAAAAAAAAAAAAAAAAAAAAAAAAAAAAAAAAAAAAAAAAAAAAAAAAAAAAAAAAAAAAAAAAAAAAAAAAAAAAAAAAAAAAAAAAAAAAAAAAAAAAAAAAAAAAAAAAAAAAAAAAAAAAAAAAAAAAAAAAAAAAAAAAAAAAAAAAAAAAAAAAAAAAAAAAAAAAAAAAAAAAAAAAAAAAAAAAAAAAAAAAAAAAAAAAAAAAAAAAAAAAAAAAAAAAAAAAAAAAAAAAAAAAAAAAAAAAAAAAAAAAAAAAAAAAAAAAAAAAAAAAAAAAAAAAAAAAAAAAAAAAAAAAAAAAAAAAAAAAAAAAAAAAAAAAAAAAAAAAAAAAAAAAAAAAAAAAAAAAAAAAAAAAAAAAAAAAAAAAAAAAAAAAAAAAAAAAAAAAAAAAAAAAAAAAAAAAAAAAAAAAAAAAAAAAAAAAAAAAAAAAAAAAAAAAAAAAAAAAAAAAAAAAAAAAAAAAAAAAAAAAAAAAAAAAAAAAAAAAAAAAAAAAAAAAAAAAAAAAAAAAAAAAAAAAAAAAAAAAAAAAAAAAAAAAAAAAAAAAAAAAAAAAAAAAAAAAAAAAAAAAAAAAAAAAAAAAAAAAAAAAAAAAAAAAAAAAAAAAAAAAAAAAAAAAAAAAAAAAAAAAAAAAAAAAAAAAAAAAAAAAAAAAAAAAAAAAAAAAAAAAAAAAAAAAAAAAAAAAAAAAAAAAAAAAAAAAAAAAAAAAAAAAAAAAAAAAAAAAAAAAAAAAAAAAAAAAAAAAAAAAAAAAAAAAAAAAAAAAAAAAAAAAAAAAAAAAAAAAAAAAAAAAAAAAAAAAAAAAAAAAAAAAAAAAAAAAAAAAAAAAAAAAAAAAAAAAAAAAAAAAAAAAAAAAAAAAAAAAAAAAAAAAAAAAAAAAAAAAAAAAAAAAAAAAAAAAAAAAAAAAAAAAAAAAAAAAAAAAAAAAAAAAAAAAAAAAAAAAAAAAAAAAAAAAAAAAAAAAAAAAAAAAAAAAAAAAAAAAAAAAAAAAAAAAAAAAAAAAAAAAAAAAAAAAAAAAAAAAAAAAAAAAAAAAAAAAAAAAAAAAAAAAAAAAAAAAAAAAAAAAAAAAAAAAAAAAAAAAAAAAAAAAAAAAAAAAAAAAAAAAAAAAAAAAAAAAAAAAAAAAAAAAAAAAAAAAAAAAAAAAAAAAAAAAAAAAAAAAAAAAAAAAAAAAAAAAAAAAAAAAAAAAAAAAAAAAAAAAAAAAAAAAAAAAAAAAAAAAAAAAAAAAAAAAAAAAAAAAAAAAAAAAAAAAAAAAAAAAAAAAAAAAAAAAAAAAAAAAAAAAAAAAAAAAAAAAAAAAAAAAAAAAAAAAAAAAAAAAAAAAAAAAAAAAAAAAAAAAAAAAAAAAAAAAAAAAAAAAAAAAAAAAAAAAAAAAEhpZGF5YXQsTXVoYW1tYWRTUEFBSW1raQAAAAWQAwACAAAAFAAAELKQBAACAAAAFAAAEMaSkQACAAAAAzkwAACSkgACAAAAAzkwAADqHAAHAAAIDAAACKYAAAAAHOoAAAAIAAAAAAAAAAAAAAAAAAAAAAAAAAAAAAAAAAAAAAAAAAAAAAAAAAAAAAAAAAAAAAAAAAAAAAAAAAAAAAAAAAAAAAAAAAAAAAAAAAAAAAAAAAAAAAAAAAAAAAAAAAAAAAAAAAAAAAAAAAAAAAAAAAAAAAAAAAAAAAAAAAAAAAAAAAAAAAAAAAAAAAAAAAAAAAAAAAAAAAAAAAAAAAAAAAAAAAAAAAAAAAAAAAAAAAAAAAAAAAAAAAAAAAAAAAAAAAAAAAAAAAAAAAAAAAAAAAAAAAAAAAAAAAAAAAAAAAAAAAAAAAAAAAAAAAAAAAAAAAAAAAAAAAAAAAAAAAAAAAAAAAAAAAAAAAAAAAAAAAAAAAAAAAAAAAAAAAAAAAAAAAAAAAAAAAAAAAAAAAAAAAAAAAAAAAAAAAAAAAAAAAAAAAAAAAAAAAAAAAAAAAAAAAAAAAAAAAAAAAAAAAAAAAAAAAAAAAAAAAAAAAAAAAAAAAAAAAAAAAAAAAAAAAAAAAAAAAAAAAAAAAAAAAAAAAAAAAAAAAAAAAAAAAAAAAAAAAAAAAAAAAAAAAAAAAAAAAAAAAAAAAAAAAAAAAAAAAAAAAAAAAAAAAAAAAAAAAAAAAAAAAAAAAAAAAAAAAAAAAAAAAAAAAAAAAAAAAAAAAAAAAAAAAAAAAAAAAAAAAAAAAAAAAAAAAAAAAAAAAAAAAAAAAAAAAAAAAAAAAAAAAAAAAAAAAAAAAAAAAAAAAAAAAAAAAAAAAAAAAAAAAAAAAAAAAAAAAAAAAAAAAAAAAAAAAAAAAAAAAAAAAAAAAAAAAAAAAAAAAAAAAAAAAAAAAAAAAAAAAAAAAAAAAAAAAAAAAAAAAAAAAAAAAAAAAAAAAAAAAAAAAAAAAAAAAAAAAAAAAAAAAAAAAAAAAAAAAAAAAAAAAAAAAAAAAAAAAAAAAAAAAAAAAAAAAAAAAAAAAAAAAAAAAAAAAAAAAAAAAAAAAAAAAAAAAAAAAAAAAAAAAAAAAAAAAAAAAAAAAAAAAAAAAAAAAAAAAAAAAAAAAAAAAAAAAAAAAAAAAAAAAAAAAAAAAAAAAAAAAAAAAAAAAAAAAAAAAAAAAAAAAAAAAAAAAAAAAAAAAAAAAAAAAAAAAAAAAAAAAAAAAAAAAAAAAAAAAAAAAAAAAAAAAAAAAAAAAAAAAAAAAAAAAAAAAAAAAAAAAAAAAAAAAAAAAAAAAAAAAAAAAAAAAAAAAAAAAAAAAAAAAAAAAAAAAAAAAAAAAAAAAAAAAAAAAAAAAAAAAAAAAAAAAAAAAAAAAAAAAAAAAAAAAAAAAAAAAAAAAAAAAAAAAAAAAAAAAAAAAAAAAAAAAAAAAAAAAAAAAAAAAAAAAAAAAAAAAAAAAAAAAAAAAAAAAAAAAAAAAAAAAAAAAAAAAAAAAAAAAAAAAAAAAAAAAAAAAAAAAAAAAAAAAAAAAAAAAAAAAAAAAAAAAAAAAAAAAAAAAAAAAAAAAAAAAAAAAAAAAAAAAAAAAAAAAAAAAAAAAAAAAAAAAAAAAAAAAAAAAAAAAAAAAAAAAAAAAAAAAAAAAAAAAAAAAAAAAAAAAAAAAAAAAAAAAAAAAAAAAAAAAAAAAAAAAAAAAAAAAAAAAAAAAAAAAAAAAAAAAAAAAAAAAAAAAAAAAAAAAAAAAAAAAAAAAAAAAAAAAAAAAAAAAAAAAAAAAAAAAAAAAAAAAAAAAAAAAAAAAAAAAAAAAAAAAAAAAAAAAAAAAAAAAAAAAAAAAAAAAAAAAAAAAAAAAAAAAAAAAAAAAAAAAAAAAAAAAAAAAAAAAAAAAAAAAAAAAAAAAAAAAAAAAAAAAAAAAAAAAAAAAAAAAAAAAAAAAAAAAAAAAAAAAAAAAAAAAAAAAAAAAAAAAAAAAAAAAAAAAAAAAAAAAAAAAAAAAAAAAAAAAAAAAAAAAAAAAAAAAAAAAAAAAAAAAAAAAAAAAAAAAAAAAAAAAAAAAAAAAAAAAAAAAAAAAAAAAAAAAAAAAAAAAAAAAAAAAAAAAAAAAAAAAAAAAAAAAAAAAAAAAAAAAAAAAAAAAAAAAAAAAAAAAAAAAAAAAAAAAAAAAAAAAAAAAAAAAAAAAAAAAAAAAAAAAAAAAAAAAAAAAAAAAAAAAAAAAAAAAAAAAAAAAAAAAAAAAAAAAAAAAAAAAAAAAAAAAAAAAAAAAAAAAAAAAAAAAAAAAAAAAAAAAAAAAAAAAAAAAAAAAAAAAAAAAAAAAAAAAAAAAAAAAAAAAAAAAAAAAAAAAAAAAAAAAAAAAAAAAAAAAAAAAAAAAAAAAAAAAAAAAAAAAAAAAAAAAAAAAAAAAAAAAAAAAAAAAAAAAAAAAAAAAAAAAAAAAAAAAAAAAAAAAAAAAAAAAAAAAAAAAAAAAAAAAAAAAAAAAAAAAAAAAAAAAAAAAAAAAAAAAAAAAAAAAAAAAAAAAAAAAAAAAAAAAAAAAAAAAAAAAAAAAAAAAAAAAAAAAAAAAAAAAAAAAAAAAAAAAAAAAAAAAAAAAAAAAAAAAAAAAAAAAAAAAAAAAAAAAAAAAAAAAAAAAAAAAAAAAAAAAAAAAAAAAAAAAAAAAAAAAAAAAAAAAAAAAAAAAAAAAAAAAAAAAAAAAAAAAAAAAAAAAAAAAAAAAAAAAAAAAAAAAAAAAAAAAAAAAAAAAAAAAAAAAAAAAAAAAAAAAAAAAAAAAAAAAAAAAAAAAAAAAAAAAAAAAAAAAAAAAAAAAAAAAAAAAAAAAAyMDIyOjAyOjAzIDE2OjU4OjAwADIwMjI6MDI6MDMgMTY6NTg6MDAAAABIAGkAZABhAHkAYQB0ACwATQB1AGgAYQBtAG0AYQBkAFMAUABBAEEASQBtAGsAaQAAAP/hCytodHRwOi8vbnMuYWRvYmUuY29tL3hhcC8xLjAvADw/eHBhY2tldCBiZWdpbj0n77u/JyBpZD0nVzVNME1wQ2VoaUh6cmVTek5UY3prYzlkJz8+DQo8eDp4bXBtZXRhIHhtbG5zOng9ImFkb2JlOm5zOm1ldGEvIj48cmRmOlJERiB4bWxuczpyZGY9Imh0dHA6Ly93d3cudzMub3JnLzE5OTkvMDIvMjItcmRmLXN5bnRheC1ucyMiPjxyZGY6RGVzY3JpcHRpb24gcmRmOmFib3V0PSJ1dWlkOmZhZjViZGQ1LWJhM2QtMTFkYS1hZDMxLWQzM2Q3NTE4MmYxYiIgeG1sbnM6ZGM9Imh0dHA6Ly9wdXJsLm9yZy9kYy9lbGVtZW50cy8xLjEvIi8+PHJkZjpEZXNjcmlwdGlvbiByZGY6YWJvdXQ9InV1aWQ6ZmFmNWJkZDUtYmEzZC0xMWRhLWFkMzEtZDMzZDc1MTgyZjFiIiB4bWxuczp4bXA9Imh0dHA6Ly9ucy5hZG9iZS5jb20veGFwLzEuMC8iPjx4bXA6Q3JlYXRlRGF0ZT4yMDIyLTAyLTAzVDE2OjU4OjAwLjkwMDwveG1wOkNyZWF0ZURhdGU+PC9yZGY6RGVzY3JpcHRpb24+PHJkZjpEZXNjcmlwdGlvbiByZGY6YWJvdXQ9InV1aWQ6ZmFmNWJkZDUtYmEzZC0xMWRhLWFkMzEtZDMzZDc1MTgyZjFiIiB4bWxuczpkYz0iaHR0cDovL3B1cmwub3JnL2RjL2VsZW1lbnRzLzEuMS8iPjxkYzpjcmVhdG9yPjxyZGY6U2VxIHhtbG5zOnJkZj0iaHR0cDovL3d3dy53My5vcmcvMTk5OS8wMi8yMi1yZGYtc3ludGF4LW5zIyI+PHJkZjpsaT5IaWRheWF0LE11aGFtbWFkU1BBQUlta2k8L3JkZjpsaT48L3JkZjpTZXE+DQoJCQk8L2RjOmNyZWF0b3I+PC9yZGY6RGVzY3JpcHRpb24+PC9yZGY6UkRGPjwveDp4bXBtZXRhPg0KICAgICAgICAgICAgICAgICAgICAgICAgICAgICAgICAgICAgICAgICAgICAgICAgICAgICAgICAgICAgICAgICAgICAgICAgICAgICAgICAgICAgICAgICAgICAgICAgICAgIAogICAgICAgICAgICAgICAgICAgICAgICAgICAgICAgICAgICAgICAgICAgICAgICAgICAgICAgICAgICAgICAgICAgICAgICAgICAgICAgICAgICAgICAgICAgICAgICAgICAgCiAgICAgICAgICAgICAgICAgICAgICAgICAgICAgICAgICAgICAgICAgICAgICAgICAgICAgICAgICAgICAgICAgICAgICAgICAgICAgICAgICAgICAgICAgICAgICAgICAgICAKICAgICAgICAgICAgICAgICAgICAgICAgICAgICAgICAgICAgICAgICAgICAgICAgICAgICAgICAgICAgICAgICAgICAgICAgICAgICAgICAgICAgICAgICAgICAgICAgICAgIAogICAgICAgICAgICAgICAgICAgICAgICAgICAgICAgICAgICAgICAgICAgICAgICAgICAgICAgICAgICAgICAgICAgICAgICAgICAgICAgICAgICAgICAgICAgICAgICAgICAgCiAgICAgICAgICAgICAgICAgICAgICAgICAgICAgICAgICAgICAgICAgICAgICAgICAgICAgICAgICAgICAgICAgICAgICAgICAgICAgICAgICAgICAgICAgICAgICAgICAgICAKICAgICAgICAgICAgICAgICAgICAgICAgICAgICAgICAgICAgICAgICAgICAgICAgICAgICAgICAgICAgICAgICAgICAgICAgICAgICAgICAgICAgICAgICAgICAgICAgICAgIAogICAgICAgICAgICAgICAgICAgICAgICAgICAgICAgICAgICAgICAgICAgICAgICAgICAgICAgICAgICAgICAgICAgICAgICAgICAgICAgICAgICAgICAgICAgICAgICAgICAgCiAgICAgICAgICAgICAgICAgICAgICAgICAgICAgICAgICAgICAgICAgICAgICAgICAgICAgICAgICAgICAgICAgICAgICAgICAgICAgICAgICAgICAgICAgICAgICAgICAgICAKICAgICAgICAgICAgICAgICAgICAgICAgICAgICAgICAgICAgICAgICAgICAgICAgICAgICAgICAgICAgICAgICAgICAgICAgICAgICAgICAgICAgICAgICAgICAgICAgICAgIAogICAgICAgICAgICAgICAgICAgICAgICAgICAgICAgICAgICAgICAgICAgICAgICAgICAgICAgICAgICAgICAgICAgICAgICAgICAgICAgICAgICAgICAgICAgICAgICAgICAgCiAgICAgICAgICAgICAgICAgICAgICAgICAgICAgICAgICAgICAgICAgICAgICAgICAgICAgICAgICAgICAgICAgICAgICAgICAgICAgICAgICAgICAgICAgICAgICAgICAgICAKICAgICAgICAgICAgICAgICAgICAgICAgICAgICAgICAgICAgICAgICAgICAgICAgICAgICAgICAgICAgICAgICAgICAgICAgICAgICAgICAgICAgICAgICAgICAgICAgICAgIAogICAgICAgICAgICAgICAgICAgICAgICAgICAgICAgICAgICAgICAgICAgICAgICAgICAgICAgICAgICAgICAgICAgICAgICAgICAgICAgICAgICAgICAgICAgICAgICAgICAgCiAgICAgICAgICAgICAgICAgICAgICAgICAgICAgICAgICAgICAgICAgICAgICAgICAgICAgICAgICAgICAgICAgICAgICAgICAgICAgICAgICAgICAgICAgICAgICAgICAgICAKICAgICAgICAgICAgICAgICAgICAgICAgICAgICAgICAgICAgICAgICAgICAgICAgICAgICAgICAgICAgICAgICAgICAgICAgICAgICAgICAgICAgICAgICAgICAgICAgICAgIAogICAgICAgICAgICAgICAgICAgICAgICAgICAgICAgICAgICAgICAgICAgICAgICAgICAgICAgICAgICAgICAgICAgICAgICAgICAgICAgICAgICAgICAgICAgICAgICAgICAgCiAgICAgICAgICAgICAgICAgICAgICAgICAgICAgICAgICAgICAgICAgICAgICAgICAgICAgICAgICAgICAgICAgICAgICAgICAgICAgICAgICAgICAgICAgICAgICAgICAgICAKICAgICAgICAgICAgICAgICAgICAgICAgICAgICAgICAgICAgICAgICAgICAgICAgICAgICAgICAgICAgICAgICAgICAgICAgICAgICAgICAgICAgICAgICAgICAgICAgICAgIAogICAgICAgICAgICAgICAgICAgICAgICAgICAgICAgICAgICAgICAgICAgICAgICAgICAgICAgICAgICAgICAgICAgICAgICAgICAgICAgICAgICAgICAgICAgICAgICAgICAgCiAgICAgICAgICAgICAgICAgICAgICAgICAgICA8P3hwYWNrZXQgZW5kPSd3Jz8+/9sAQwAHBQUGBQQHBgUGCAcHCAoRCwoJCQoVDxAMERgVGhkYFRgXGx4nIRsdJR0XGCIuIiUoKSssKxogLzMvKjInKisq/9sAQwEHCAgKCQoUCwsUKhwYHCoqKioqKioqKioqKioqKioqKioqKioqKioqKioqKioqKioqKioqKioqKioqKioqKioq/8AAEQgBwwM8AwEiAAIRAQMRAf/EAB8AAAEFAQEBAQEBAAAAAAAAAAABAgMEBQYHCAkKC//EALUQAAIBAwMCBAMFBQQEAAABfQECAwAEEQUSITFBBhNRYQcicRQygZGhCCNCscEVUtHwJDNicoIJChYXGBkaJSYnKCkqNDU2Nzg5OkNERUZHSElKU1RVVldYWVpjZGVmZ2hpanN0dXZ3eHl6g4SFhoeIiYqSk5SVlpeYmZqio6Slpqeoqaqys7S1tre4ubrCw8TFxsfIycrS09TV1tfY2drh4uPk5ebn6Onq8fLz9PX29/j5+v/EAB8BAAMBAQEBAQEBAQEAAAAAAAABAgMEBQYHCAkKC//EALURAAIBAgQEAwQHBQQEAAECdwABAgMRBAUhMQYSQVEHYXETIjKBCBRCkaGxwQkjM1LwFWJy0QoWJDThJfEXGBkaJicoKSo1Njc4OTpDREVGR0hJSlNUVVZXWFlaY2RlZmdoaWpzdHV2d3h5eoKDhIWGh4iJipKTlJWWl5iZmqKjpKWmp6ipqrKztLW2t7i5usLDxMXGx8jJytLT1NXW19jZ2uLj5OXm5+jp6vLz9PX29/j5+v/aAAwDAQACEQMRAD8A+kaKKKACiiigAooooAKKKKACiiigAooooAKKKKACiiigAooooAKKKKACiiigAooooAKKKKACiiigAooooAKKKKACiiigAooooAKKKKACiiigAooooAKKKKACiiigAooooAKKKKACiiigAooooAKKKKACiiigAooooAKKKKACiiigAooooAKKKKACiiigAooooAKKKKACiiigAooooAKKKKACiiigAooooAKKKKACiiigAooooAKKKKACiiigAooooAKKKKACiioL29ttOsZry/njt7aBC8ssjYVFHUk0bgT0Vn6FruneJdFt9V0a5W5tLhdyOvb1BHYjoQelaFNpp2YBRRRSAKKKKACiiigAooooAKKKKACiiigAooooAKKKKACiiigAooooAKKKKACiiigAooooAKKKKACiiigAooooAKKKKACiiigAooooAKKKKACiiigAooooAKKKKACiiigAooooAKKKKACiiigAooooAKKKKACiiigAooooAKKKKACiiigAooooAKKKKACiiigAooooAKKKKACiiigAooooAKKKKACiiigAooooAKKKKACiiigAooooAKKKKACiiigAooooAKKKgvb2206xmvL+eO3toELyyyNhUUdSTRuAXt7badYzXl/PHb20CF5ZZGwqKOpJrxv/AImXx31z/lvp/gGxm90k1ORT+i/y/wB77tWHUpvj/wCLrnT4LmSy8GaM8bzwqSst+zFtmfRTsbjsPcjb7dZWVtp1jDZ2EEdvbQIEiijXCoo6ACuy31Zf3/y/4P5Gfx+h4/rOjal8Gdem8S+FIJLvwldvu1TSk5+yn/nrGOw/l0PGCvrGia3p/iLR7fVNHuUubS4Xcki/qCOxHQjtV10SWNo5FV0YFWVhkEHqCK8Q8QrL8CPE0Ws6Mxl8J6xcbLrSs828mCd0X4A8e2PQgX+0rlfx/n/wQ+DXoe40VS0fWLDX9It9T0i5S5tLhd0ciHr7H0I6Edqu1yNNOzNAooopAFFFFABRRRQAUUUUAFFFFABRRRQAUUUUAFFFFABRRRQAUUUUAFFFFABRRRQAUUUUAFFFFABRRRQAUUUUAFFFFABRRRQAUUUUAFFFFABRRRQAUUUUAFFFFABRRRQAUUUUAFFFFABRRRQAUUUUAFFFFABRRRQAUUUUAFFFFABRRRQAUUUUAFFFFABRRRQAUUUUAFFFFABRRRQAUUUUAFFFFABRRRQAUUUUAFFFFABRRRQAUUUUAFFFFABRRRQAVV1LTbPWNNn0/U7aO6tLhCksMgyGH+e/arVFNNp3QHk/wotYLH4n/Ea0s4lht7e4s4ookGFRFWUAAegAxUXxLj1bWPi94V8Oad4i1TRbbULW4aV7C5ePJRWcHAIBPy459awNH+Iug+Afi54//wCEhknT7deQeT5MRfOwPuz6ffFTQeO9E8d/tB+DLrw/LM8dtBdxyCWIoQTBIR1/zxXqunUVV1bacu//AG6YXXLbz/U1vC2m6x4V+OkXh+78V6xrlpNobXm3ULp3Acy7PukkcBevuaufHBQ6+DFcBlbxFbggjII5rN8beL9K8E/tC2eq668iWx8NiEGKMuSxuHI4H0NYXj34o+G/HeoeE7LQJbh57fXraZxNAUG3OOD9SKUIVJ1IVLaW3+8G0k0e66Nomm+HtNTT9FsorK0RiyxRLgZJyT9avUUV5bbbuzcKKKKQBRRRQAUUUUAFFFFABRRRQAUUUUAFFFFABRRRQAUUUUAFFFFABRRRQAUUUUAFFFFABRRRQAUUUUAFFFFABRRRQAUUUUAFFFFABRRRQAUUUUAFFFFABRRRQAUUUUAFFFFABRRRQAUUUUAFFFFABRRRQAUUUUAFFFFABRRRQAUUUUAFFFFABRRRQAUUUUAFFFFABRRRQAUUUUAFFFFABRRRQAUUUUAFFFFABRRRQAUUUUAFFFFABRRRQAUUUUAFFFFABRRRQAUUUUAFFFFABRRRQAUUUUAFFFFABRXIXN7c+M76TTtHme30aB9t5fxnDXBHWKI+nq3+T1yqFUKM4AwMnJ/OtalN00r79uxjTqqo24rTv39P8xaKKKyNgooooAKKKKACiiigAooooAKKKKACiiigAooooAKKKKACiiigAooooAKKKKACiiigAooooAKKKKACiiigAooooAKKKKACiiigAooooAKK5CW4u/BeovJdyzXfh+6lLGVyXexdj/EepjJPXt/PrUdZY1kjZXRgCrKcgg9wa1qU3CzWqfX+upjTqqbcWrNbr+ug6iiisjYKKKKACiiigAooooAKKKKACiiigAooooAKKKKACiiigAooooAKKKKACiiigAooooAKKKKACiiigAooooAKKKKACiiigAooooAKKKKACiiigAooooAKKKKACiiigAooooAKKKKACiiigAooooAKKKKACuP1i7uPEniWXwtbytY2kMYkvZSdstwh/gjH93sW/D69hWN4h8PJrUUU0EptNStTvtLxB80beh9VPcVvQlGM7y+T7Puc2JhOcLR+a7rtf+uxp2lpb2FnFa2cSwwRLtSNBgKKmrB8PeIXv5ZdM1eIWmsWo/fQZ+WRe0kZ7qf06Gt6oqRlGVpbmtKcJwTht/WgUUUVmaBRRRQAUUUUAFFFFABXCa1N4k1T4jvomi+I20a2i01Lk7bKKfcxcr/GMjjHeu7rzfWdO1bUvjFNHoeuNo0q6OheVbWOfePNbjD8D60AdToGj+INNupZNb8UPrMTJhImsIoNjZ+9lOT9Kvza/o9tqK2Fxq1jFeMQFtnuUWQ59FJzXPXEHiPwz4W1y/1HxI+tyxWbyW6tYxQeUyqTn5Ovbr6VyOiaDe3Xg23ib4e6RqH2y3DvfT6mhmnZxkyFjESCSc9eKAOy+JF7dWPhm2lsbma2kbUrVC8MhQlTKoIyOxHBFbqa/o8mpHTo9WsXvQcG2W5QyD/gOc15x4o03VLX4L6XpniOUrex3trBLKku4hfOAU7vXbjmui8VeCfDcfgnUBb6TZWkltavLDcxQqkkTouVYOBnOR1zzQB2E13b28sMdxPFE877IVdwpkbBOFB6nAJwOwqrHr2kTfavK1Wyf7GM3O24Q+QPV+fl6Hr6V534jafxF4d+HrXk0sMt9eQ+c8bbX+aBt2COmRkfjXTeJtC0rRPh5ryaRptrZBtPlVvs8KoWAQ4yQOep6+tAHVRyxzQrNDIskTqGV1YFWB6EH0plre2t7arc2VzDcW7Z2yxSB0ODg8jjqKzvDpx4N0wnp9hi/wDQBXGeFdX0zSPgraTazC11bTtJbi2jTe1wzysAgHQk5oA7i28R6Je3xsrPWNPuLodYIrpGcf8AAQc1dkureGeKCaeKOWbPlxs4DPgZOB3wK8k8ZWlxb+GY7lPAun6HHbXMDwXUd1GJ4D5qjhY0xz3G/v3rovHtgureLvCFlPJIkM81wswjYqXTyslMjscYPsaAOsh8R6JcTCK31nT5ZDL5IRLpGJkxnZgH72AeOvFXbm6gsrWS5vJ47eCJd0ksrhVQepJ4ArlPFfg6ybwbcw+HNPtbG7tmW7tfs0Kx5li5X7oGc8j8ayvEGsJ410Lw1pNlnb4gkSa6UdUgjw0oP/AgF/GgD0OORJolkidXRwGVlOQwPQg1y+oaT4z1LUJ3tvEtro1qr4gitrBbhnX1dpDwfZR+NdSqqiKiAKqjAA7CsHxN4l/sdYbHTYPt2tXuVs7NT19Xc/wovc/gOaAKHhjxRdy6XraeI/J+16DO8VzPbrtSZVQOHA7Eg8j1rLsD478QaPH4is9ctdOFwhnttIaxWRCnVFeQndkjGSMYzVu68NSaJ8L9et2lN3qN5bT3F3PjHmzMhzgdgOgHoK3/AAnNHL4L0eWIgxmxiII6Y2CgClpuu6j4n8D2+p+H0tbfULgBWS73GOFw22QELycYOBxnisLWZvGHguzXW7/xHDrdlHNGt1ZvYJBtRmCkxspzkZ6HNXfhUR/whMk33YpdQu5IyeBsMzYP0qOd2+ImrRQ2wI8M2FwJJbj/AKCEyHhE9Y1IyW7kYFAHQ67Dr13DBF4cvLSx8wnz7m4iMrxrjjYmQCc+pxXOxX3iXwt4o0jT9d1iLXbHV5HgWY2i28sEgUsOE4ZSAe2a7O+vrXTLCa8v50t7aBC8krnAUCuT0W1u/FXiKHxRqkElrY2qsuk2kgw5DDDTuOxI4Udh9aAOzooooAKKKKACiiigAooooAKKKKAGyxRzwvFMiyRupVkYZDA9QRXG28sngvxFaaNG7XWlak5FrADuls26kY6mP37fz2/EPiFNFiihgiN3qV0dlpZofmkb1Poo7movD3h57CWXU9XlF3rF0P30+PljXtHGOyj9eprrp+5Tbns9l3ff5d/l3OKr+8qqNP4lu+y7ed+3z7G9RRRXIdoUUUUAFFFFABRRRQAUUUUAFFFFABRRRQAUUUUAFFFFABRRRQAUUUUAFFFFABRRRQAUUUUAFFFFABRRRQAUUUUAFFFFABRRRQAUUUUAFFFFABRRRQAUUUUAFFFFABRRRQAUUUUAFFFFABRRRQAUUUUAFFFFAGPr/h6LWkhmimaz1C1bfbXkYy0R7gjup7g9a11BCgMdxA5OOtLRVOcnFReyIUIxk5JasKKKKksKKKKACiiigAooooAKxk8P7PG0viD7TnzLFbT7P5fTDlt27PvjGPxrZooAZLEk8LxTIHjkUqysOGB4IrioPAuu6RGLPwx4zuNP0xSTFaT2EdyYQTnajtggegOcV3FFAHN694QHiPwrb6JqWozTBJYpJrhlAebY24j5cBSfUdKzLvwJrOpxNp2q+Mry50RsK9oLSJJZEH8DTDkjseATXb0UAYWseGI9Tn0JoJxaxaPdrcJGI9wcKhUJ1G3r156VrXtnDqFhPZ3ab4LiNo5F9VIwanooA4ey8Ca3aWi6UfGl42iInlLbCzjWby/7nn9enGQAfpU6fDu1HgG28Mm+lX7HN59tdxIFaJw5dDgk5xnHPWuxooA4bUPAOra/pxtfEviuW+EbI8CxWSQRq6kHc6q2XPHTIHOcVv6p4e/tLxBoup/avK/sp5H8vy8+bvTb1zxjr0NbVFAAeBz0rzf4b6PC/ibxBrVtI0unx3Ulppu4DaiF98pX2LkgfSuz17w1pPia2jt9btmuIo23KomePnGOdhGR7Hir1lY2um2UVnYQR29tCu2OKNcKo9AKAJ68+i8AeKLTXdQ1Wx8bRx3F9Jl3l0dJWVB92MMX4UDsMDvivQaKAMLQdJ16yNwPEXiGPWo5VCxoNPS38vrnO1juzx+VYX/CvtVtbd9M0bxfd6foblh9iFrG8kSsclI5jyo5OODiu6ooA5XXvBTX/giHwzoGptottGFjLrF5peMDlD8w69znnn1qhb+EvGtpbR29r47t4YYlCJGmgxBVA6ADfXc0UAcb4s8F6v4mXShH4kW1Fhh5EfT1mjuJRjEjIWA45IByBmnWvh3xrFdwvc+Oop4UdTJENFjTeoPK538ZHGa7CigAooooAKKKKACiiigAooooAKKKKAMbSPDsenahdaldztfajcsQbiRcbI8/LGo/hAH5nmtmiiqlOU3eREIRpq0UFFFFSWFFFFABRRRQAUUUUAFFFFABRRRQAUUUUAFFFFABRRRQAUUUUAFFFFABRRRQAUUUUAFFFFABRRRQAUUUUAFFFFABRRRQAUUUUAFFFFABRRRQAUUUUAFFFFABRRRQAUUUUAFFFFABRRRQAUUUUAFNdxGpZugp1RXX/Hu34fzoAT7XF6n8qPtcXqfyqjRQBe+1xep/Kj7XF6n8qxdV1fT9E0977V7uK0tk+9JK2Bn09z7Csfw/8QfC/inUHsdB1Vbq5RC5j8mRDtBAJ+ZRnqKAOy+1xep/Kj7XF6n8qo0UAXvtUfv+VH2uL1P5VR7UUAXvtcXqfyo+1xep/Ks6WVIIXllO1I1LMcZwAMmsLw3448O+LpJ4/D2oi7e3AaVfJkjKg9D86jPTtQB132uL1P5Ufa4vU/lXH6r488N6Lr8GianqQh1GcoI4BDI2d5wvKqQMn1NdFQBe+1xep/Kj7XF7/lVGigC99ri9T+VH2uL1P5VRooAvfa4vU/lR9ri9T+VedT/GLwJb3EkE2u7ZI2KOv2Oc4IOCPuVveHPFmi+LbWa58PXv2uKF/Lkbynj2tjOMMB2oA6f7XF6n8qPtcXqfyqjRQBe+1R+/5Ufa4vU/lVE0UAXvtcXqfyo+1xep/KuauPFOjWvia38P3F5s1S5j8yGAxP8AOvPIbG3+E8ZqO98YaFp/iW20C81BY9UugDDb+W53A5x8wG0dD1IoA6n7XF6n8qPtcXqfyrnJ/Euk2/iSDQJbvGqXEZljtxE5yozyWA2joeprVoAvfao/f8qPtcXqfyqiOoooAvfa4vU/lR9ri9T+VUazNe8Q6X4Y0s6jrl19ltQ4QyeWz8noMKCaAOh+1xep/Kj7XF6n8q82/wCF0+AP+g//AOSc/wD8RXcRSpPCksR3JIoZTjGQRkUAaP2uL1P5Ufa4vf8AKqNFAF77XF6n8qPtcXqfyqjRQBe+1xep/Kj7XF6n8qwNc13TfDekyanrVx9ms4ioeTYz4JOBwoJ6n0rG0L4leEvEuqppui6t9pu3Ussf2aVMgDJ5ZQP1oA7j7XF6n8qPtcXqfyqjRQBe+1R+/wCVH2uL1P5VR7UUAXvtcXqfyo+1xep/KqNZWu+JdG8M2a3WvahDZRMcL5hJZz/sqMk/gKAOj+1xep/Kj7XF6n8q5Xw54y0DxaszeHtQF4IMeb+6dCuc44YD0NblAF77XF6n8qkjkWRcr0zis2rtn/qT/vUAT0UUUAFFFFABRRRQAUUUUAFFFFABRRRQAUUUUAFFFFABRRVDWdc03w/pzX2tXkdnbKwXfIfvMeigDkk+gyaAL9FYeheMtD8SXMtvpF3I88Sb3hmtZYHC5xnbIqnHvW5QAUVnf23bf8JN/YeyX7T9k+178DZs37cZznOfb8a0aACiio5riG3VWuJUiDOEUuwXLE4AGe5PGKAJKKKKACignAJPauPn+KnhS2uEgnn1NJZHKRqdEvcuQMkL+554BPFAHYUViWnim01FLCXTrPUriC8naHzTZSRCAqpbdIsgVlU4wDjkkVt0AFFFFABRRWdrev6X4csPtmtXsdpAWCKXyS7HoqqMlj7AE0AaNFYGleN9C1uG8fS7qWV7KLzZ4ZLaSGRV552SKp5wa0tG1WDXNDstUtFkSC8hWaNZQAwVhkZAJGfxoAu0UVHFcQ3G/wAiVJfLco+xgdrDqDjoR6UASUUUUAFFFFABRRRQAUUUUAFFFFABRRRQAUUUUAFFFFABUV1/x7t+H86lqK6/492/D+dAFCiiigDhPiv4N1Hxh4ftV0Z4jd2NwLhIJjhJuMbTnjP1461V8GfEGTU/Ea+G/FOg/wBj69BEfLAAKSKBzt/ujA6AkHHWur8R6Tquq20I0PXpdFuInLeakCzBwRjDI3BrE8P/AA9k0/xU3iXxDrk2uauIvJjmaBYEjX2Rc88nv3PFAHa0UUUAHaijtRQBT1b/AJAt7/17yf8AoJr59+G83/CLaj4U1528ux1hJ9Pum6KHWQ7Cff7v5Gvoi7g+1WU9vu2+bGybsZxkYzXn8nwjhm+F0PhCXVdz285nivvs2NrFyfubvQkfeoA8z1ZG1jX9J8XzjnVfEqx2xPaCNlVfzx+lfSVcLqfwzhvdI8L6fa6h9mi8PzpMD5G/z9uM/wAQ25IznnrXdUAFFFFABRRRQB5V8bP+Prwf/wBhZf5rXqtcp428E/8ACYy6O/8AaH2P+zLsXOPJ8zzMY+X7wx06811dABRRRQAGig0UAeV/FuE6V4m8I+KIxj7JfC3mb/YY5/kG/OuI8TrLqura58Qbd3ZdH1mCC3K9DFHw34Ela9r8beFY/GfhafR5bj7KZGV0nEe/y2U5zjIz3HXvWXpnw6ttP+Gdx4Qe9MwuEkEl2YcEuxyH27j0479qAMPwgyeJPjR4h19MPb2NtFZ279RlgCcfkfzr1CuV+H/ghPAuhzWH2038085mkuDF5ZbgADG49APWuqoAB1FFA6iigAooooA8q+H3/JafHf8Avp/M16rXKeH/AAT/AGF4013xB/aHn/2uynyPJ2+Tg5+9uO78hXV0AFFFFABRRRQB578cP+ST6h/11h/9GLVzwFrPiS8sLC11Xwr/AGdp6WSeXff2jHL5mFUL+7UZGRz7Vq+OPC3/AAmfhO40X7Z9i850bzvK8zbtYN93I9PWtfTLL+ztJtLLzPM+zQpFv243bQBnHbpQBaooooAO1FHaigArzX4m+Edd1LXdG8S+Gobe+udJzmxuCNsnOcjJAz+I7Yr0qud8R6Fr2p3UU/h/xRLohRNjoLNLhJOc52ueD7igDL8B+Pbfxdd3tpd6VJpOt2QC3VvIMnGccNgHg9iOM967auS8H+A4vC+oX+qXeoz6rq+okfabuVAmR6Ko6D8ewrraACrtn/qT/vVSq7Z/6k/71AE9FFFABRRRQAUUUUAFFFFABRRRQAUUUUAFFFFABRRRQAVzfjDQL7WBpd9o0luNR0i7+1W8d3nyZjsZCrEAleGOGAOD2NdJWTr1hrF9DD/YOtLpM0bEsZLNbhJRjoVJU/kwoAy9O8aSSXVzpuvaPPpGrwWr3S27yLLHcRr95opF+8ASAQQpGRxXnltqvijWfDkWvafpfjR9cuYhcW7x3NsLDJ+ZU8nzsGPHGSm/HOc16PpPhO6i1s6z4k1b+2NQFu1rFstVt4YY2ILhUBY5YquSWPQVSsfBmuaHGun+HPFQs9GRiYrWfT1nkt1JzsjkLABR2DK2KAGC4kT4pi5uI9ki+HfMkjB6HzckVw9prPiXxD4aj8Q6dpnjRtXu4vtFpJBcW62C55RPJM4DJjAJZd3U8V6sdAB8Yf261xuBsPsRgMfX5927dn8MY/GsSz8F65oimy8NeKRZaR5jPHaXGnrcSW4JyVjkLjC5JwGVsUAQ6i+peJfFlloE99eaRbR6Wt/fJYy+VLLIzbRH5g+ZVBDZ2kE8c1R8beGbe30vw3YPqOrzx/23CvmSanN5pDEnBdWDHGOCTketdLrvhe51DU7XV9G1ZtL1a1iaATtAJo5o2IJWSPIyMjIIII555qLUfC2pav4cgtNR10NqltdJdwX8VmqKkinKjytxyuMjBbPPWgDfsLKPTrGK0geeSOIYVrid5nP1dyWb8Sa888Y32ivJqlzbeJ/EY1C2RvLXSTczQWkir911hRk6jJEmep6V6DpsN7Bp8Ueq3cV5dqP3k8UHkq5z2Tc2PzNcjF4C1S2s77SbPxO1vol48zm3SxX7RH5rFmUTFsYyx/gzg9e9AHS+Gr+bVfCulX91gzXVpFLJgYG5kBP6msLxf/yOngr/ALCE3/pO9dFoem/2NoFhpnm+d9jt0g8zbt37VAzjJxnHTNVdX0D+1da0XUPtPlf2VcPN5fl7vN3RsmM5GPvZzz0oAzfFN5c2/i7wjDb3EsUVxfTLMiOVWUCByAwHUZAPNYulWF74p8UeL7XUNc1SCysNTSK2isrt4ShNvEx+ZTnGTwoO3k5BzXWavoH9q61ouofafK/sq4eby/L3ebujZMZyMfeznnpTdC8O/wBi6vr199q8/wDti9W72eXt8nESR7c5O77mc8dcUAcNpdnq3iH4e3Wsal4k1WPULD7VHbSWdwYV/cM6qzovyyM2zLbgRzwBTtb8XanfW/hLTorbVp31jTmvrwaK0aTsFWP5VZ3XaC0mSVO7jiuw0jwr/ZXhC70P7Z5v2lrk+f5W3b5zM33cnON3rzjtVO58Db9F0OGy1SWy1XQ4VitdQiiByNgVg0ZJDIwHK59MGgCl4Ek12LW7+1urDXbfRfIR7U67NHNMkuSHUOsjsykbT8xyDmtXxboWo6hdaVquhNatqOkzPJFBeEiKYOhVlLAEqcdGAOPSr2h2GuWfnNr+tw6m74CLBYi2SPGe25ySfdu3SjXtP1u98htA1xNKeMneJbJblJc4xkFlIx7MOtAGPD4rbVLXVdI1bSrjR9XgsXma2mZZEkjII3xyLwy547EdwKwNMur2fwb4B0CwvZtPXVLRTcXNuQJRFHCGKoSDtLEgZ6gZxzXS6f4QulubzUNd1ltT1S6tDZrMtsIYoIzyQkYJPJ5JLE8DmkPghR4V0TTYdSkgv9ERPsmoRRDKsqbCShJBVhkFSe/XODQBRitrjwr4z0vSodV1G90zWIp0aG+umnkglRQwdJGJcAjIIJIBxjFVfhdodtb2+pagtzqLzDVb2LbNqM8kZAmIz5bOU3cfexn3rd0nwvfR68mteI9Z/tW+giaG2WK2FvDArEbiE3MSxwASWPA4ApdD8M32g6zePa6uj6PdXElz9ge0HmJJIctiUN93OTgrnnrQB0lFFFABRRRQAUUUUAFFFFABRRRQAUUUUAFFFFABRRRQAUjKGXDDIpar39w9rZvLGFLLjAbp1oAk8iL+4KPIi/uCsP8At66/55w/98n/ABo/t66/55w/98n/ABoFc3PIi/uCjyIv7grD/t66/wCecP8A3yf8aP7euv8AnnD/AN8n/GgLm55EX9wUeRF/cFYf9vXX/POH/vk/40f29df884f++T/jQFzc8iL+4KPIi/uCsT+3bnaTsh6+h/xpP7euv+ecP/fJ/wAaAubnkRf3BR5EX9wVh/29df8APOH/AL5P+NH9vXX/ADzh/wC+T/jQFzc8iL+4KPIi/uCsP+3rr/nnD/3yf8aP7euv+ecP/fJ/xoC5ueRF/cFHkRf3BWH/AG9df884f++T/jR/b11/zzh/75P+NAXNzyIv7go8iL+4Kw/7euv+ecP/AHyf8aP7euv+ecP/AHyf8aAubnkRf3BR5EX9wVh/29df884f++T/AI0f29df884f++T/AI0Bc3PIi/uCjyIv7grD/t66/wCecP8A3yf8aP7euv8AnnD/AN8n/GgLm55EX9wUeRF/cFYh125B+5D0HY/40n9vXX/POH/vk/40Bc3PIi/uCjyIv7grD/t66/55w/8AfJ/xo/t66/55w/8AfJ/xoC5ueRF/cFHkRf3BWH/b11/zzh/75P8AjR/b11/zzh/75P8AjQFzc8iL+4KPIi/uCsaLXLl5kUpFhmAOAf8AGt2gZH5EX9wUeRF/cFSUUAR+RF/cFHkRf3BUlFAEfkRf3BR5EX9wVJRQBH5EX9wUeRF/cFSUUAR+RF/cFHkRf3BUlFAEfkRf3BR5EX9wVJRQBH5EX9wUeRF/cFcl8Q/F1/4Ss7KXTYbaVriRlYTqxAAAPGGHrXB/8Lm8Q/8APnpn/fqT/wCLr0KOX168FUhax5mIzTD4eo6dRu68j2nyIv7go8iL+4K8W/4XN4h/589M/wC/Un/xdH/C5vEP/Pnpn/fqT/4utf7JxXZfeYf23g+7+49p8iL+4KPIi/uCvFv+FzeIf+fPTP8Av1J/8XR/wubxD/z56Z/36k/+Lo/snFdl94f23g+7+49p8iL+4KeqKgwowK8T/wCFzeIf+fPTP+/Un/xdejeAfEt54q8PSX+oRwRyrcNEBApC4Cqe5PPJrGvgK1CHPPY6MNmWHxNT2dO9/Q6eiiiuA9IKKKKACiiigAooooAKKKKACiiigAooooAKKKKACiiigAooooAKKKKACiiigAooooAKKKKACiiigAooooAKKKKACiiigAooooAKKKKACiiigAooooAKKKKACiiigAooooAKKKKACiiigAqjrH/ILl+o/mKvVR1j/kFy/UfzFAHNUUUUEhRUbM6YJ2kE4wBSlmZyEwNvUkZoAfRTUbcuTwehp1ACj7h+o/rSUo+4fqP60lABRRUbM6YJ2kE4wBQBJRUbOwdRt4Jxk1JQAUHtRQe1ABRRRQAUVHI7IuVXPuakoAKKKKAFbr+A/lSUrdfwH8qSgAooqNjIqlvlwOcY/rQBJRSA5GaWgCS3/wCPmL/fH866+uQt/wDj5i/3x/OuvoGgoopG3bTsxuxxnpmgYtFYwutVsdUtIdRms7qK8kaNfs9u0TREIzZOXbcMLjt2rZoAKKKKACiiigAoorF0zW5dR8Q31qsSCyhiRoJed0pLOrH025XA+hPQigDaooooA8w+Nn/IM0r/AK7SfyFeP17B8bP+QZpX/XaT+Qrx+vssr/3SPz/M+Czn/fZfL8goorY0ewsZ9L1O+1FLiRbNYyscEyxli77eSVb69K9CUlFXZ5cIObsv6tqY9FWLx7R5gbCCaCLbys0wlbPrkKvHtiq9UtUS1ZhXuHwc/wCRLn/6/X/9ASvD69w+Dn/Ilz/9fr/+gJXlZt/u3zR7WSf738md/RRRXyB9yFFFFABRRRQAUUUUAFFFFABRRRQAUUUUAFFFFABRRRQAUUUUAFFFFABRRRQAUUUUAFFFFABRRRQAUUUUAFFFFABRRRQAUUUUAFFFFABRRRQAUUUUAFFFFABRRRQAUUUUAFFFFABRRRQAVR1j/kFy/UfzFXqo6x/yC5fqP5igDmqKKKCSKQAYdT82eOc5pUOJHB9c04IqnIVQfUChlVvvKD9RQA2LlSexYkVJRRQAo+4fqP60lKPuH6j+tJQAVFIAMOp+bPHOc1LTQiqchVB9QKAGyfej/wB7+lSUhAPUUtABQe1FB7UAFFFFAEc3+papKQgEYIyKWgAooooAVuv4D+VJSt1/AfypKACo/wDW9eE9PWpKZ5Uf9xfyoAfRRRQBJb/8fMX++P5119chb/8AHzF/vj+ddfQNBSM6ohZ2CqoySTgClpHRZEZJFDKwwVYZBFAznriwt9J1zT7ixlme5upjE8c9w85aMgliu8koAQD8uB2PauiqnY6Ppmls7aZp1pZtJ9828Cx7vrgDNXKACiiigAooooAyvED3/wBjjh0+znuFmfZO1vJGskceOdu9lGT0znjOe1ZWl3kw8YyQLoV5ZxCxhjG9oNsShpMEhZDx24ya6qmCGMTGYRqJWUKX2jcQMkDPpyfzoAfRRRQB5h8bP+QZpX/XaT+Qrx+vYPjZ/wAgzSv+u0n8hXj9fZZX/ukfn+Z8FnP++y+X5BWhp2p3+mW1x9jCGCcqswltklRiOVBDqR71n1bstV1HTQw06/urQP8AeEEzJu+uDzXoTXMrWv6nmU5csr3a9DW8UQRLbaVdG0jsry6ty9xbxLsAwxCvt/h3DnFc9Uk9xNdTtNdTSTSuctJIxZm+pNR0qcXCNmOrNTm5IK9w+Dn/ACJc/wD1+v8A+gJXh9e4fBz/AJEuf/r9f/0BK83Nv92+aPWyT/e/kzv6KKK+QPuQooooAKKKKACiiigAooooAKKKKACiiigAooooAKKKKACiiigAooooAKKKKACiiigAooooAKKKKAKQ1rSm1ltIXU7M6mqeYbIXC+cF/vbM7se+Kbe67pOmQGbUtUsrSISiAyT3CRqJDyEyT97261z17rdpL4n+yNpepr/Z0jTxsmkXJS5n8s8iUR+WFwxGd2WbjoPmztVsdQ0uTT7p7jUoLg20n7zS7D7UTcyPvZGBjfYjHjcQvC/fXuAdve6pp+mwvLqN9bWkaRmV3nmVFVAQCxJPABI59xVeXxHocGlwanPrOnx2FwQsN290gilJ6BXJwc47GsV7+4sLO+13WdLuLidfJghtbW1knfK9WCorNjzGY7gD8qg896NvcwWn2PVvseo3FpKl0kyrpFwsizyujZ8kx+YEOGG4jHqec0AdY2t6UmsR6S+p2a6lInmJZm4QTOnPzBM7iODzjtS2OtaXqdzc22m6lZ3c9o2y4it51kaFvRwDlTweDXIWF3HBLpGgajp+oxyWi28s06aXcSRyTqoCqJljKYXAyxbsB640vD+qWmr+IJJY9P1Cxe1ha3t47jSri3UR7hk73jVDkqMKpOAM9yAAdKt3btePaLPE1zGgkeEON6qSQGK9QCQefY1TuPEOi2usRaTdavYQ6lOAYrKS5RZpAc42oTuPQ9B2NV0sY7fxRdTxWvlRTWYMskUZXe+85OV6tjHv0rBmkNv4jtW0K88Q+dMtuHsptNdrWSMcFpJ5YdysEJOPNB3DlSSQQDq49X02bVZdMh1C1k1CFA8tos6mWNT0YpnIHI5IqIeIdFOtHRxq9gdUAybEXKeeBjP+rzu6c9K5jwsNSs9cNk0upSKHma+iuLARW0RLFleKbYDKzEjPzv1PCYxVm10PVL3xFqTXVzDDpQ1JLlLc2TedK6JGQwlL7dm5egTPB+agDpRquntpr6gt9bGyQMXuRMvlqFOGy2cDBBB9MVZBDKCpBBGQR3rza10nVE8OHR2s7n7NcWjXr5jPyyKhBhx1yz7GA7/NXotsCtpCGBBCKCD24oAlooooAKKKKACiiigAooooAKKKKACiiigArL8RXcFjoc093KsUSlcu3QZYCtSuR+KP/JO9Q/3ov/Ri1rRgqlWMH1aRhiKjpUZ1F0TZif8ACUaJ/wBBO3/77o/4SjRP+gnb/wDfdeM0V9J/YtH+Z/gfKf29X/lX4/5ns3/CUaJ/0E7f/vuj/hKNE/6Cdv8A9914zRR/YtH+Z/gH9vV/5V+P+Z7N/wAJRon/AEE7f/vuj/hKNE/6Cdv/AN914zRR/YtH+Z/gH9vV/wCVfj/me66Zf2ustJHpc6XTxgM4jOdo960P7NvP+fd/yrivgn/yEtV/64x/zNev14OMoRw9Z04vRH0eAxEsTh1VkrN3/M5X+zbz/n3f8qP7NvP+fd/yrqqK5Duscr/Zt5/z7v8AlR/Zt5/z7v8AlXVUUBY5X+zbz/n3f8qX+zrzj/R3/KupooCxyv8AZt5/z7v+VH9m3n/Pu/5V1VFAWOV/s28/593/ACo/s28/593/ACrqqKAscr/Zt5/z7v8AlR/Zt5/z7v8AlXVUUBY5ZtOuyeLd+g7Un9m3n/Pu/wCVdVRQFjlf7NvP+fd/yo/s28/593/KuqooCxyv9m3n/Pu/5Uf2bef8+7/lXVUUBY5iHT7tZ42aBwAwJ4966eiigYUUUUAFFFFABRRRQAUUUUAFFFFABRRRQB598WNE1LWrHTY9Ks5bpo5HZxGPujArzL/hAvFH/QFuvyH+NfR1Feph8zqYemqcUrI8bFZRSxNV1ZSabPnH/hAvFH/QFuvyH+NH/CBeKP8AoC3X5D/Gvo6iuj+2q38q/E5v7AofzP8AD/I+cf8AhAvFH/QFuvyH+NH/AAgXij/oC3X5D/Gvo6ij+2q38q/EP7AofzP8P8j5x/4QLxR/0Bbr8h/jXrfwu0q+0fwrNbapbSW0xu3cJIOSpVBn9DXZ0VzYnMamJp+zkkjrwmVUsLV9pGTbCiiivMPXCiiigAooooAKKKKACiiigAooooAKKKKACiiigAooooAKKKKACiiigAooooAKKKKACiiigAooooAKKKKACiiigAooooAKKKKACiiigAooooAKKKKACiiigAooooAKKKKACiiigAooooAK5H4o/wDJO9Q/3ov/AEYtddXI/FH/AJJ3qH+9F/6MWunCf7xD1X5nJjf91qf4X+R8/UUUV94fm4qqWYKoJYnAAHWrd5pGpafEst/p91axucK88DIGPXAJFbvga2Q3eoX8kyQGxs2kSV13eUxIG8DuQCcD1xVG90qGbSZtW07UZb2OOYJcrcQ+XIhbO1iNzZB55zmud1v3nJ2t+J0qg/Zc/e/bZfizEoooroOY9Q+Cf/IS1X/rjH/M16/XkHwT/wCQlqv/AFxj/ma9fr43NP8Ae5fL8j7zJv8Aco/P8wqjfa3pWmSrHqWp2dnIw3KtxcLGSPUAmr1Q3d1FZWc11cHbFChdz7AZrzD1yKw1XTtUVzpl/a3gjIDm3mWTaT0zgnFW6z9FtpIrEz3Qxd3befOP7pI4X/gIAX8K0KACiiigAooooAqXuq6fppjGo39raGQ4Tz5lTefbJ5q2CCAQcg9DXNz3Utl4i1F7PTJtWaWKMSeQUUwkA4Ri5UEHO7AJIycjkZ0PDSJH4bs0ikV1VCPlBATk/IAQCNv3cEAjFAGpRRRQAUUUUAFVJNW06HUEsZb+1jvH+5btMokb6LnJq3XGi/02LwveaZfyRjVSspltSQJpJckh1XqQTghhwAAcjHAB2VFVdMmkuNJs5puJJIEd/qVBNWqACiiigApksscKb5pFjXIG52wMk4A/On1geKbG2ksku5I98yXNuEZySE/fLyoPAPPUcmgDWvtSsdMiWXUr23s42OA9xKsYJ9Mk1YR1kRXjYMrDIZTkEetZVkgn8SalPIAzwCO3jzztUqHOPTJbn12j0o0BRBHf2seBFb3siRqOiqQHx7YLHigDWooooAKKKKAGSyxwRmSaRY0HVnbAH40SSxxbfNkVN7BV3NjcT0A96xPFtjbTaLPczR+ZLHs8suSQh3jkKeAeeoGaNesbYX2m3hj3XBv4gJHJYqOeFz90HHOMZoA3qKKKACiiigApgljMxhEimVVDFN3zAHocenBp5GQQe/oawNPsbaz8XXsdvEFV7GEuSSzOd8gyzHlj7nJoA04dZ0y4vmsoNRtJbtc7rdJ1Mgx1yoOauVh6olvP9m0jT4k86KaKXbGuFtUVg2Tj7uQCAO+fTONygAooooAKKKKACiiigAooooAKKKKACiiigAooooAKKKKACiiigAooooAKKKKACiiigAooooAKKKKACiiigAooooAKKKKACiiigAooooAKKKKACiiigAooooAKKKKACiiigAooooAKKKKACiiigAooooAK5H4o/wDJO9Q/3ov/AEYtddXI/FH/AJJ3qH+9F/6MWunCf7xD1X5nJjf91qf4X+R8/UUUV94fm5q6DqkOm3Nwl7HJJZ3cDW86xEBgpwQy54yCAeanuNS0600CbTNI+0ym6lWS4nuY1jOFztVVDN3JOc/hWHRWTpRcub+tDWNaSjyr+r7hRRRWpkeofBP/AJCWq/8AXGP+Zr1+vIPgn/yEtV/64x/zNev18bmn+9y+X5H3mTf7lH5/mFUdWspNQtY7eNlVDPG0u4/eRWDEfjjH41eorzD1wooooAKKKKACiiigDIe11Sxv7qbS4rS5iu3EjpcTtEY2ChTgqjbgQo44xzyc8W9KsW0+wEMsgllZ3lkdV2gu7Fjgdhk8VcooAKKKKACiiigArJvIdXv2ms5IrO2spMq06XDSSsncbNihSRxncce9a1FACKoRQqjCgYAHaloooAKKKKACqOsWMmoaeIIWVW86KTLkgYWRWP6A1eooAybm01C11SW90lLaf7SirNDcTNEAVzhwwVuxwRjsOataXZNY2hSaQSzyyNLM4GAXY5OB6DoPYCrlFABRRRQAUUUUAUdZspNR0ia1gKq8m3BckDhge30o1OykvfsflFR5F0kzbieVXOce/NXqKACiiigAooooAKzJrC7GqXt7avErS2Sww7ieJFLkE8dPmH61p0UAYOlQ61p8ENsdM01Y8gzSrqMjO5P3nOYRuY9eT+Nb1FFABRRRQAUUUUAFFFFABRRRQBy9nrvifU45bjTtC0hrZbiaGNp9XlR2EcrR5Ki2YDJXOMnrU/23xl/0AdC/8Hc3/wAiVJ4N/wCRdb/r/vf/AEqlq1Y+ItN1HUprC0lmM8WeXtpEjk2nDeXIyhZMHg7Ccd61k4qTXL+f+ZKvbco/bfGX/QB0L/wdzf8AyJR9t8Zf9AHQv/B3N/8AIlXj4i00a3/ZJmlF10z9nk8rdjds83b5e/HOzduxzijSfEOna3JMmnSys0OCfNtpIt6nIDoXUb0ODh1yp7Gp5l/Kvx/zHbzKP23xl/0AdC/8Hc3/AMiUfbfGX/QB0L/wdzf/ACJWsNUszqE9iJwbm3iE0keD8qnODnp26denqKrDxJpR0CPWhdH+z5MbZfKfJy237uNwOe2OKOZfyr8f8wt5lL7b4y/6AOhf+Dub/wCRKPtvjL/oA6F/4O5v/kSuhoo5l/Kvx/zC3mc99t8Zf9AHQv8Awdzf/IlH23xl/wBAHQv/AAdzf/IldDRRzL+Vfj/mFvM577b4y/6AOhf+Dub/AORKPtvjL/oA6F/4O5v/AJEroaKOZfyr8f8AMLeZz323xl/0AdC/8Hc3/wAiVT1bxD4q0XSp9RvdB0XyIFDPs1qYkDIHT7L711tc18Rf+Se6v/1xH/oQrSnyymouO78/8yZXUW0zif8Ahdtx/wBAbTP/AAaT/wDyLR/wu24/6A2mf+DSf/5FrzGPQ76bQZNYhjWS0hl8qUowLRnHBZeoB6A+tGn6HfanY3t5bRqLayj8yaaRgqj0UE9WPYdTXvfUcLa/6nnfWKx7z4F8dSeMptQilsILQ2aROGgummVw5kH8UaEEeX6HrXYV5B8Cv+PvXv8Arjaf+hXFev14eKpxp1pQjsv8jvpScoJsKKKxPFvii28I6GdSu4LidfNSJY4IXkJLMBzsVsdfTnp1IrmNTborDl8Y6Nb6VBf3Et1DHcuyQwy2M63ErDqFgKeYemeF6c9Ku6Rren67atcaXcCZEcpIpRkeNh/CyMAyn2IBoAv1jeINYvdMm0y20uxt7y61C5aBFubpoETETyElljc9IyMY71s1z3iH/kZfCn/YRl/9I7irgk3r5iewfbfGX/QB0L/wdzf/ACJR9t8Zf9AHQv8Awdzf/IlaeraxaaLbLPe/aGVm2qlray3Eh+iRqzY9TjApZNZ06HSF1SS7jFk6K6TZyHDfdAHUk5AAHJJxjNHMv5V+P+YW8zL+2+Mv+gDoX/g7m/8AkSj7b4y/6AOhf+Dub/5Eq1feJ9NsIbOSU3kwvk3wC0sJ7hmXAO4rGjFR8w5IHWptW12x0S1hnv8A7SVnkEcaW9pLcSO2CcBI1ZugJ6cYo5l/Kvx/zC3mZ/23xl/0AdC/8Hc3/wAiUfbfGX/QB0L/AMHc3/yJV208SaVfXVtbWt0XmuomliQxOpIU4YHIG1gcgqcNweODVq01O0vrm7gtZd8lnIIpxsI2tgHGSMHg9Rn06ijmX8q/H/MLeZkfbfGX/QB0L/wdzf8AyJR9t8Zf9AHQv/B3N/8AIldDRRzL+Vfj/mFvM577b4y/6AOhf+Dub/5Eo+2+Mv8AoA6F/wCDub/5EroaKOZfyr8f8wt5nPfbfGX/AEAdC/8AB3N/8iUfbfGX/QB0L/wdzf8AyJXQ0Ucy/lX4/wCYW8znvtvjL/oA6F/4O5v/AJErltc+KOq+HdVfTtT0TSlnRVY7NWmYEEZHP2WvSq8D+KFq978UGtYmjR5khRWkcKoJAGST0FduDp061RxmtLef+ZhXnKEbxOh/4Xbcf9AbTP8AwaT/APyLR/wuu6Odmiaa7YJCjVJsn25tcV5ZqGl3ul6nJp99bvFdRtsaMjJJ7Y9c9sdatX2i3mhanFa6kixztEJTGHDMgYHAYDofY16jwOFtovxORYirc+nrO4+12MFxt2edGsm3OcZGcZqaqej/APIDsP8Ar2j/APQRVyvnHuemFFFFIAooooAKKKKACqGtaPa69pUunagHNvKVLBG2nggjn6ir9FOMnFqS3RMoqcXGSumcT/wqXwv/AM8rr/v+aP8AhUvhf/nldf8Af8121FdX1zE/zv7zk+oYT/n2vuOJ/wCFS+F/+eV1/wB/zR/wqXwv/wA8rr/v+a7aij65if5394fUMJ/z7X3HE/8ACpfC/wDzyuv+/wCaP+FS+F/+eV1/3/NdtRR9cxP87+8PqGE/59r7jB8PeDdJ8LzzS6UsytOoVxJJuBAORW9RRXPOpKpLmm7s6adOFKPLBWQUUUVBoFFFFABRRRQAUUUUAFFFFABRRRQAUUUUAFFFFABRRRQAUUUUAFFFFABRRRQAUUUUAFFFFABRRRQAUUUUAFFFFABRRRQAUUUUAFFFFABRRRQAUUUUAFFFFAGF4N/5F1v+v+9/9KpaxLbQLsaxP59lqdxo9kkqwafetaPHNu42wheSmM/65s9AMDNTaHrU+jWEtldaFrDyJe3T74rTcrK9xI6kHPcMK0f+Eu/6l/Xf/AL/AOvW04Scm0SmrGbdaRqd1cS6OLGZLSS+a9GpiSPy0U5Pl7d2/fuOPu7dv8Xarnh621KTUYJ9S02XT/7PsfsQ8ySNhctlSXTYzYT5Bjdtb5uQMVN/wl3/AFL+u/8AgF/9ej/hLv8AqX9d/wDAL/69R7OXYd0Y8Wh+KE1ZdWmmspEnnlMtiluUnSOQBQGm80o20JGcBB93gnvXg8K6umjf2c1v/o8dms8aeauRdNGI2TrjAwzZ6Ev7V0H/AAl3/Uv67/4Bf/Xo/wCEu/6l/Xf/AAC/+vR7OXYLo6Giue/4S7/qX9d/8Av/AK9H/CXf9S/rv/gF/wDXo9nLsF0dDRXPf8Jd/wBS/rv/AIBf/Xo/4S7/AKl/Xf8AwC/+vR7OXYLo6Giue/4S7/qX9d/8Av8A69H/AAl3/Uv67/4Bf/Xo9nLsF0dDXNfEX/knur/9cR/6EKk/4S7/AKl/Xf8AwC/+vWR4r1ifXfCt/plpoWspNcR7UaWzIUHIPOCT29K1owaqRb7oibvFpHiOg69d+H9R+02m10ddk8EgzHOh6ow7g1d8R+Jxq0MWn6VaDTdHtzuis0bOXPV3P8TfyFSf8IB4j/6Blz/4Dyf/ABNH/CAeI/8AoGXP/gPJ/wDE19I6mHcue6ueXyVbctjtvgV/x969/wBcbT/0K4r1+vMfhD4f1PQ7rWTqdnLbrNFbLG0iFQ5VpiQMgdNy/nXp1fPY2SliJNf1oelRTVNJhXLfEZHbwPcuiM4hmt5n2qSQiTIzHA9ACfwrqaK5DY4S+1/SI/F2l+KXv7ebQXsJrVNSSQPBBKZFJ3OOFDBSNx4yuM81c8Kzpq3jDXtb01i+lXEdvDFOAQlxIgbc6H+IYZV3Dg7fauvooAK57xD/AMjL4U/7CMv/AKR3FdDXN+KjPBqXh++hsrq8js755JktY97qptpkBx/vOtXT+L7/AMhPYt+Jb7VbKyiXRNJutQkmfZI1q8AaBMcsBLIgJ7DnjOSDjBNOto1sisOiS6fIbNI905iL4G7ETMjsSV69SPm4J5qv/wAJd/1L+u/+AX/16P8AhLv+pf13/wAAv/r0ezl2C6MzV9KnOk6ND/Yms3d9b2giWfTNTW1W3faoIkPnoXXIBwFcfL0PQ6OuaNqmp2+hxxX01rcW9wJLm8tBFuT9y6llEqspBYgfdPB7dQ7/AIS7/qX9d/8AAL/69H/CXf8AUv67/wCAX/16PZy7BdGbf+Gr2yvIrrRo5Lqaxt/MheaZQ1xMZSzqx4xvDP2CjPGMYrY8O6TNpUl4swz5pjfzMj94+3529vmJqH/hLv8AqX9d/wDAL/69H/CXf9S/rv8A4Bf/AF6PZy7BdHQ0Vz3/AAl3/Uv67/4Bf/Xo/wCEu/6l/Xf/AAC/+vR7OXYLo6Giue/4S7/qX9d/8Av/AK9H/CXf9S/rv/gF/wDXo9nLsF0dDRXPf8Jd/wBS/rv/AIBf/Xo/4S7/AKl/Xf8AwC/+vR7OXYLo6Gvn34u/8lCuf+uMX/oNew/8Jd/1L+u/+AX/ANevLvHWgaz4n8VS6nYaRfxwvGihZrZw2QMHoCP1r0Mv/d1uaeisc2JTlC0TH0/x7Ja6ZGLywhvdVsl8vT9Qm5aBT6j+LH8Oema5lZ5brUGnuZGllkZmd3OSxIOSTW3/AMIB4j/6Blz/AOA8n/xNPi8CeI4pA50u6OAeBbyZPH+7XsKeHjdxa1OLkqtq6PobR/8AkB2H/XtH/wCgirlVNKRo9GskkUo628YZWGCDtHBq3Xystz1wooopAFFFFABRRRQAUUUUAFFFFAGTJqd6mv2lo1okVrP5g8x5MuxUZyAOAD7nPsKj1S61fTUlvvOspbOJgTbC3cSMpOOJN+M89NnPT3qTUf8AkZNG/wC2/wD6AKp+I7G0Wym1mK4lF3AN9vm4d4jIOFURElMkjbwM88EHmgDoqKRCTGpYbWIGR6GloAKKKKAGuxSNmVGcgEhVxlvYZ4rN0zUby61S+try2jtxAsTRqr72w+77x6Z+XoMj3Nalc+811BrOuy6fbfarlbe3MUO4Lvb5+5IH60ATX+tyweJNP021iR45ZCl1I2f3f7t2VR/tHbk+g+orariZrm7srnRIzoOptL9uaSSSSS23TOYZMnib/AADHoK7YHIBIx7HtQAUUUUAFR3EjxQM8ULTuOkaEAn8SQKkooAwBrOoNoOo3DxW0V5bztBGo3SRg5AGfuluT7fhWlYxanG7/wBp3lpcKR8gt7RoSD7kyPn9KztOtLe/s9WtbwExSahICFkKHqpGGUgg5HY060i/s7xIljZ3NxNA9s8s0VxcPOYmDKFbc5LDdlhjOPl4HBoA3KKKKACiiigCtfT3MEObO2+0SHON0gRF46seTj6A/wBazYNaubjRNKlihia/1GJWVMkRp8u5mPfaPTuSBkZzWzJ/qn/3TXGWVlBdWnhT+0MNaPp7QmJ/uSuyxlVb1yFbjvigDq7GO/jjYanc21w5Pym3t2hAHuC75/MVarD0m3t7HxBfWelxxw2McMZaCEBY4pSWyABwpK7SQPY963KACiiigArJ17U73TbN5bO0SRU2l5ZZMKAWxgAck/kPftWtWT4o/wCRbuv+Af8Aoa0ASXsesec8lnqFhb24Gds9k8jDjklhKo/SjQbm+vNJS41JoWeVi0ZhhaMGPPykqWYgkc9e9R6+TPb2+mqSDfzCF8f88wCz/mqkfjWsAAAAMAdBQAUUUUAFFFFAGTPqd7HrtlaG0SO1uJJEMjyZdiqFshRwBx1Jz7Cq82o6rML66sWso7axkdDDPGxebYMk7wwEee3ytxz3xU+qf8jBon/XaX/0U1ZX9l2GrW2p3+p3MsEyzSJLsnMccQjJCb4wdr/KA3zhsg+mBQB09rOLqzhuFVlWaNXCsORkZwalqppM811o9nPdJsmlhR5FxjBIBPHardABRRRQAE4BIGfYd6xYNauRqV7HqNqlrb21otyBv3yYJfO7HAPy9AT9a2qxfKSfxbfwyrujk06JWU9wXlBFAETajq9tbQ6nefY/sUhTzLZI282FXIAPmbsNjIyNo788c79clq2mXq6XHpE+rJPBMyQ28SwbZ3AI+++4hgoBJIVenPfPW0AFFFFABRRRQAUUUUAFFFFABRRRQAUUUUAFFFFABRRRQAUUUUAFFFFABRRRQAUUUUAFFFFABRRRQAUUUUAFFFFABRRRQAUUUUAFFFFABRRRQAUUUUAFFFFABRRRQAUUUUAFFFFABRRRQAUUUUAFFFFABRRRQAUUUUAMaKN5EkeNWePOxioJXPXB7VUj0TSotQN9Fplml4SSbhbdBISep3YzV6igAooooAKKKKACmLDGsryrGokcAO4UZYDpk98ZNPooAY8McjxtJGjtG25CyglDgjI9DgkfjT6KKACiiigAooooArzadZXNtLb3FnbywTNulieJWVz6kEYJ+tFlp1lpsJh06zt7SIncUgiVFJ9cAVYooAKKKKACiiigAIyMGq8lhZzWP2KW0ge02hPIaMGPaOg29Me1WKKAIbSztrC3W3sbeK2hX7scKBFH0A4qaiigAooooAKZLFHPGY541kRuquoIP4Gn0UAMaKN5EkeNWePOxiuSueuD2p9FFABRRRQAUUUUAMaGN5EkeNWeMkoxUEqSMHB7ccVWuNH027vEu7rTrSe5jxsmkgVnXHTDEZFXKKACiiigAooooAKYIYxM0wjTzWUKX2jcQM4GfTk/nT6KAKdlo+mabLJJp2nWlpJJ99oIFQt9SBzVyiigAooooAKKKKACiiigAooooAKKKKACiiigAooooAKKKKACiiigAooooAKKKKACiiigAooooAKKKKACiiigAooooAKKKKACiiigAooooAKKKKACiiigAooooAKKKKACiiigAooooAKKKKACiiigAooooAKKKKACiiigAoqmNZ0xtQ+wLqNobzp9mE6+Z6/dzmnX2qWGmKjalfW1ornCG4mWMMfQZPNAFqikBDKCpBBGQR3paACiiigAooqmNZ0xtQ+wLqNobzp9mE6+Z6/dzmgC5RTHljjZFkkVDI21AzY3HGcD1OAafQAUUUUAFFFRXNzBZ27T3c0cEKDLSSuFVfqTwKAJaKr2V/Z6jb+fp93Bdw5K+ZBIHXI6jI4qO31jTLu8e0tNRtJ7mPO+GKdWdcdcqDkUAXKKKKACiiigAoqte6lY6ZEJdSvLe0jY4DzyrGCfTJNON9aCx+2m6hFrt3+eZBs2+u7pj3oAnoqtY6jY6nCZdNvLe7jU7S9vKsgB9Mg1ZoAKKKKACiiqd3rGmWFwlvfajaW00mNkc06ozduATk0AXKKKjjnhmaRYZUkaJtkgVgSjYBwfQ4IOPegCSiiigAooooAKKp/2xpn9ofYP7RtPtmcfZvPXzPX7uc0l9rOmaW6Lqeo2lm0gJQXE6xlgOuMkZ60AXaKjt7iG7t0ntZo5oZBlJI2DKw9QRwakoAKKKKACignAyap2msaZqE8kFhqNpdSx8vHDOrsnbkA8UAXKKqX2q6fpao2p39rZq5wpuJljDfTJGatKyugZGDKwyCDkEUALRRRQAUUUUAFFFFABRRRQAUUUUAFFFFABRRRQAUUUUAFFFFABRRRQAUUUUAFFFFABRRRQAUUUUAFFFFABRRRQAUUUUAFFFFABRRRQAUUUUAFFFFABRRRQAUUUUAFFFFABRRRQAUUUUAFFFFABRRRQAUUUUAFFFI+7Y2zG7HGemaAMTWY7aSxGi2MUf2iQq0cca4EA3Z804+6AQSPUjAqbTkWfW9WuJQrOkqW6k87UEatj2yXJ/KqelW+v6dbJE+m6Y8jkNcXH9oybpX7uf3HX0GeBgdBVue01Kz1K4udJjtZ0u9pliuZmi2OBt3AhWzkBRjA6deaAF8OKIdOmtkx5dvdTRRgdFQOcL+A4/CtaqmmWJ0+xWF5PNkLNJLJjG52Ysxx2GScD0q3QAUUUUAFYesx20liNFsYo/tEhVo441wIBuz5px90AgkepGBW2+7Y2zG7HGema57SrfX9OtkifTdMeRyGuLj+0ZN0r93P7jr6DPAwOgoAfrFjbJrekXYjzcPfY8xiWIHlPwM/dHHQYFb9UdRsZLu50+SNlAtbnzn3E8jY68e+WFXqACiiigAqOaKF9klwkbeSd6s4B2HGMgnpwTzUlZOu2d9efZRZw21zCkhee3uZ2iWTj5ckI2QDzgjHAoAZYLHqGsXmoQRg2c0CQByvFwQWJYDuuGwD357YpuorDdXVnp1gimW1njlYxrhbZF5xkdCw+UL1IY9s1MW1y40+8je2sbO4MJFs8V28o3kHBbMS4AOOmfpUOlxavYxw239ladDbqfnePUJHc56tgwjcx6nJ5PegDbooooAKKKKAK9y9pabr268qIou0zOACAT0z15Pb1rP0qJ4LK9ufscm24uGuIbUAK4GBjhiAGYgtgkYLc4OaZqNpqja7Hd2trZXkEUQEKXN28RikydzACNwSRgA9Rz6mrgl1c6eXNpZLeBuIftTtGy/7/AJYIP/ATQBn6XO114nuZ7q0k064NsqLbzbS8iBj85ZSVOCcYDEjPOM4rfrLs7O+m1RdR1VbeGSOFoYoLeRpAAxBZi5Vck7V42jHPJzxqUAFFFFABWffzWWnwSb4EeW7JAgjQF7lsYxjvx1J4A64ArQrn47bXLXU7y5jsNOummkPlzS30iMIv4U2+S20D0B5JJoAmjefRvD9jYjbLqDRLBEmSQXA5J/2V6k+g9SKh8LWa2FxrNurM5W9BeRursYYyzH3JJNXbnRLfU5IbvUEmhu0i2E2l9NGFBOSuUK7hnuR2qvonh1NI1LULlZrhxczBoxJezS4XYi/MHYjdlTzycY57UAbdFFFABRRQc7Tjr2zQBh63HbPpzaNZRR/abgfu4o1x5XzZ804+6Aec9yOOadeyXlnry3UOl3V9CbXy91u8Q2Nvych3U9MdM1X0q31/TrcI+m6XLLI264uP7Rk3St3YjyPyGeBgdBWney6uk4GnWdlNEV5ee7eNlP8AuiNsj8RQBYsr2HULNLm2LGN8j5lKlSDggg8ggggip6p6XYnT7EQvIJZWd5ZXC7QXdizYHYZPHtVygAooooAbLFHPC8UyLJG4KsjjIYHqCO9ZF2Yr7WLG3slVmsJvMmlUfLCNhGzP947h8vpye2burRXc+k3MWmuqXToVjZ3KAH/eAJHHfBxVTTV1W28m2bStNtbROCYL53ZR7KYVyc+pHrQBmabeX81zqGoWOmRXTG6kheSa4MT7I2KhIxsORwTyVG4n610dleRahYwXdvkxTIHXIwcEdx61mfZNXsZriLS1s5La4kaVXnlZWt2blsKFIcZyeq9ce9aOnWSadptvZxMWWCMIGPVsd6ALNFFFABRRRQAUUUUAFFFFABRRRQAUUUUAFFFFABRRRQAUUUUAFFFFABRRRQAUUUUAFFFFABRRRQAUUUUAFFFFABRRRQAUUUUAFFFFABRRRQAUUUUAFFFFABRRRQAUUUUAFFFFABRRRQAUUUUAFFFFABRRRQAUUUUAFFFFABRRRQAUUUUAFFFFABRRRQAUUUUAFFFFABRRRQAUUUUAFFFFABRRRQAUUUUAFFFFABRRRQAUUUUAFFFFABRRRQAUUUUAFFFFABRWdrF3NaxxGB9hYnPAP86yv7Xvv+e//ji/4UCudNRXM/2vff8APf8A8cX/AAo/te+/57/+OL/hQFzpqK5n+177/nv/AOOL/hR/a99/z3/8cX/CgLnTUVzP9r33/Pf/AMcX/CtjSbiW5s2edtzByM4A4wPSgC9RRRQMKKKKACiiigAooooAKKKKACiiigAooooAKKKKACiiigAooooAKKKKACiiigAooooAKKKKACiiigAooooAKKKKACiiigAooooAKKKKACiiigAooooAKKKKACiiigAooooAKKKKACiiigAooooAKKKKACisHUk1PTbWTUv7XkmaIgm0MMYhfJA2jC7wTnA+c8+vSrOp2ky+feNr19ZQRoXZIkgKoAOT88TH9aANWis7QkvU0eI6ncS3FxIS5MyorIpOVU7FUZAwDx1zWjQAUUUUAFFMmWVoHW3dY5SpCOy7gp9SMjP51jsL7S9Sslk1Se+ju5jE0VxHGNnyM25CiKeNvOc8UAbdFctc31+1nqOpDVGtnspZESx8uMxttOED5XeS/BG1h94YHr08bF4kZl2MyglT29qAHUUUUAFFFFABRWTr9zf2lhJNZPDEkYUl2BZiSwGAOg69efp3rWoAKKKKACiiigAoorI1FL+zs7m+GptuhVpFh8pBEQOQp4Le2d3X8qANeimxsXjViNpYAkHtTqACiiigAoopGBKEKdpI4OM4oAWiscvdWWr2lv8A2hJeCct5kUqRgooUneNqggZwOc9a2KACiiigAooooAKKCQoJJwBySe1Ymlanc3+uXQY4szAklsu3kjcw3k9ecZHtigDbooooAyPEH+qh/wB41h1ueIP9VD/vGsOglhRRTHJ3KASM5zigB9FIBgckn60tABXQ6F/yD2/66H+Qrnq6HQv+Qe3/AF0P8hQNGlRRRQMKKKKACiiigAooooAKKKKACiiigAooooAKKKKACiiigAooooAKKKKACiiigAooooAKKKKACiiigAooooAKKKKACiiigAooooAKKKKACiiigAooooAKKKKACiiigAooooAKKKKACiiigAooooAKR2CIzN0UZNLRQBydh4h0TVZIL3Utd07cxD21kLtAIj/CWGcs/wBeAegyMnW1v/SbjT9N/huZ98o9Y4xuI+hbYPoa1qKACiiigAooooApaxqUekaRcX0u3bCufmbauScDJ7DJGT2rM0nUdGudQWRtesNR1ORSqrDcoQg6lY0BJA45PJOOTwAOgooA4qT+wDFcPrf2f+3w0mwvj7WCGbZ5P8eMY27eOvvXXWPnnT7f7Zj7R5S+bj+/jn9anooAKKKKACiiigDL8S/8i9c/8A/9DFalFFABRRRQAUUUUAFc3BrGmam4uNR1SzjiV8xWbXCrjB4ZwTknjOOg9zzXSUUAAIIBByD0IooooAKKKKACmyypDC8sp2ogLMcdBTqKAOcU6W2pWZ8OG1MxmzcfYtu0x4O7zNvHpjPOeneujoooAKKKKACiiigDO1m2vLu3jhs1heJm/fpLK0e9P7oIVup68dKoWb6h/wAJZKJrS1jX7JGG8u5Ztq7nxj92Mn24+tdBRQAUUUUAZHiD/VQ/7xrDrc8Qf6qH/eNYdBLCmP5fHmbfbdT6KAI4v4tv3M/LUlFFABXQ6F/yD2/66H+Qrnq6HQv+Qe3/AF0P8hQNGlRRRQMKKKKACiiigAooooAKKKKACiiigAooooAKKKKACiiigAooooAKKKKACiiigAooooAKKKKACiiigAooooAKKKKACiiigAooooAKKKKACiiigAooooAKKKKACiiigAooooAKKKKACiiigAqO4nS2hMsudq9cCpKo6x/yC5fqP5igBv8Abdn6v/3zR/bdn6v/AN81zlFArnR/23Z+r/8AfNH9t2fq/wD3zXOUUBc6P+27P1f/AL5o/tuz9X/75rnKKAudH/bVp6vj/do/tuz9X/75rnR9w/Uf1pKAudH/AG3Z+r/980f23Z+r/wDfNc5RQFzo/wC27P1f/vmj+27P1f8A75rnKKAudH/bdn6v/wB80f21Z+r/APfNc5Qe1AXOj/tuz9X/AO+aP7bs/V/++a5yigLnR/23Z+r/APfNH9t2fq//AHzXOUUBc6P+27P1f/vmj+27P1f/AL5rnKKAudH/AG1aDqX/AO+aP7bs/V/++a51uv4D+VJQFzo/7bs/V/8Avmj+27P1f/vmucooC50f9t2fq/8A3zR/bdn6v/3zXOUUBc6P+2rQ9C+f92j+27P1f/vmudT76/WkoC50f9t2fq//AHzR/bdn6v8A981zlFAXOj/tuz9X/wC+aP7bs/V/++a5yigLnR/23Z+r/wDfNH9tWfq//fNc5QO9AXOj/tuz9X/75o/tuz9X/wC+a5yigLnR/wBt2fq//fNH9t2fq/8A3zXOUUBc6P8Atuz9X/75o/tuz9X/AO+a5yigLmpqt7DexxiEn5Sc7hiszaP7w/WgfcP1H9aSgQu0f3h+tG0f3h+tJRQAu0f3h+tG0f3h+tJRQAu0f3h+tdBoQxYNzn94f5CuerodC/5B7f8AXQ/yFA0aVFFFAwooooAKKKKACiiigAooooAKKKKACiiigAooooAKKKKACiiigAooooAKKKKACiiigAooooAKKKKACiiigAooooAKKKKACiiigAooooAKKKKACiiigAooooAKKKKACiiigAooooAKKKKACqOsf8guX6j+Yq9VHWP+QXL9R/MUAc1RRRQSISAMngUiuG6Z/EEUybPyAc5anBmDhXwcjggYoAfRRRQAo+4fqP60lKPuH6j+tJQAU0uFPOfwUmnU1m2qWPagAVw2cZ465GKdTY12rz1PJ+tOoAKD2ooPagAooooAa0iqcHr7DNKCCMjkVH83mP5YB9cnvToseUMfjQA+iiigBW6/gP5UlK3X8B/KkoAKYZFBxnvjOOPzp9QZ2wlGU5we3B980AT0U1P9WueuBTqAFT76/WkpU++v1pKACms6rjccZ6U6o5gNmcc5HP40AOZwvB6+gGaUEMMg5FMX/Wv+Aoj/AI/940ASUDvRQO9ABRRRQA1nVBljiguqkAnBPQU2YDy2OOfWiQAFSByWGaAJKKKKAFH3D9R/WkpR9w/Uf1pKACmh1LEA8jr7U6o1AE5AGBtFACiRSRyeehwcGn1Gx8z5V6Z5PpUlABXQ6F/yD2/66H+Qrnq6HQv+Qe3/AF0P8hQNGlRRRQMKKKKACiiigAooooAKKKZNNHbwSTTuEjjUu7N0UAZJoAfRXkWpfHBlvXXSdKR7ZThZJ3IZx64HT6c1U/4XhqX/AECbX/vtq7lgMQ1flOd4ikup7RRXi/8AwvDUv+gTa/8AfbUf8Lw1L/oE2v8A321P+z8R2D6zS7ntFFeL/wDC8NS/6BNr/wB9tR/wvDUv+gTa/wDfbUf2fiOwfWaXc9oorxf/AIXhqX/QJtf++2o/4XhqX/QJtf8AvtqP7PxHYPrNLue0UV4v/wALw1L/AKBNr/321H/C8NS/6BNr/wB9tR/Z+I7B9Zpdz2iivF/+F4al/wBAm1/77alX446iGG/SLUr3AkYZo/s/Efyh9Zpdz2eisLwj4rtPF+jfbrRGhdG8uaBzkxt9e4PY/wD1xW7XFKLhJxlubppq6CiiipGFFFFABRWN4p8T2fhTRW1C+DPlgkUSfekc9vboST/+qvMW+OOoFjs0e2VewMjEj8eK6aWFq1leC0Mp1oQdpM9norxf/heGpf8AQJtf++2o/wCF4al/0CbX/vtq2/s/EdiPrNLue0UV4v8A8Lw1L/oE2v8A321H/C8NS/6BNr/321H9n4jsH1ml3PaKK8X/AOF4al/0CbX/AL7aj/heGpf9Am1/77aj+z8R2D6zS7ntFFeL/wDC8NS/6BNr/wB9tR/wvDUv+gTa/wDfbUf2fiOwfWaXc9oorxf/AIXhqX/QJtf++2o/4XhqX/QJtf8AvtqP7PxHYPrNLue0UV4v/wALw1L/AKBNr/321H/C8NS/6BNr/wB9tR/Z+I7B9Zpdz2iivF/+F4al/wBAm1/77aj/AIXhqX/QJtf++2o/s/Edg+s0u57RRXi//C8NS/6BNr/321H/AAvDUv8AoE2v/fbUf2fiOwfWaXc9oorynQvjUl1qUdvrdhHawSHb9oikJEZ9SD2988ehr1auarRqUXaasawqRmrxCiiisSwooooAKKKKACqOsf8AILl+o/mKvVR1j/kFy/UfzFAHNUUUUEjXXcOuCDkGkCHduY5OMDAxin0UAFFFFACj7h+o/rSUo+4fqP60lABTXXeAM9806igAooooAKD2ooPagAooooAYUYMSjAZ6gjNKi7Fx196dRQAUUUUAK3X8B/KkpW6/gP5UlABTGRm4Zht9AKfRQAUUUUAKn31+tJSp99frSUAFNdd64zjmnUUAMKHduQ4JGDkZpUXYuOvcn1p1FABQO9FA70AFFFFADXXehXOM0Mu7HOMHNOooAKKKKAFH3D9R/WkpR9w/Uf1pKACmFMsxBxlcfSn0UAMVXUABlwP9n/69PoooAK6HQv8AkHt/10P8hXPV0Ohf8g9v+uh/kKBo0qKKKBhRRRQAUUUUAFFFFABWL4y/5EbW/wDrwmH/AI4a2qxfGf8AyI+t/wDXjN/6Aaun8a9SZfCz5gooor7Q8IKKKKANvRPC9xrmn3l8l7Z2dvZlRLJdM4A3dPuqadqPg7WbDVfsEVq2oS+Ss6tYo0ysjdG4GccHqK2fBOuabpvh7WLO+vba1numj8r7VatPGcHnKhWH51t3viDwlqGpXVzJqLfavs0MSyutylvIyk7sJGQwA4wCQK4ZVqsajVm16en/AAToUIOK11PPYdB1e5uJYLfSr2WaA4ljS3dmj/3gBkfjWlqXhC8srTSntlnvLi/geZreO3O+HacEEDJP1wMV2mu+LdC1yC+tLTXZNKaS6iuFuVglxKBGFKnaNwII/Qc1E3i3QpvC0GhNqbxyPZPFJqKRSbkcPkKwxkq3fGfep9vWdny+qs+w/Zw1Vzy8ggkEYI6g0UrDDEAhgD1Hekr0DmCiiigD134FH5ddHbNv/wC1K9cryP4FdNd/7d//AGpXrlfK47/eZf10PYw/8JBRRRXEbhRRRQB5V8cyf7N0cZ4M0mR/wEV43Xsfxz/5B+jf9dpf/QRXjlfT5d/u6+Z5OJ/isKKKK9A5gooooA2ND8NXmuxXM8UtvaWlqAZrq7k2RoT0GQCST6AUk/hq+F+1ppezWWWMSM+mB51UHscLkHj0rV8OanpUnhPU/D+sXjaeLmVJ4roRNIoZf4WVea0NOvtDsPD1/oNv4laBpp47hNRS1lVWxwUwBu4xnPTmuSVSopPT8Ht3NlGLSOTg0DWLpnW20m+mMbmNxHbO21gMlTgcHHar1r4M1q50qbUPsU6wwTiGRPIcyD+8wUDoveuw8QeOtMvdPuU0y8likfUoZCQjq0saIoLk47kdM546U7UvFWh6p/bEK6wbZZdRiu4JGglIlRY1DKMLkcg9cdaz9tXaXu2+/wAi/Z0+5xV94W1CPVbi10qzv9RihcJ5q2EiEnaGwUIyp56HtzWdJpeoQxyPLY3KJFJ5UjNCwCP/AHTxwfbrXoGveMtMns9YXTNRcSXWqQzpsR0LxLGgJzgY5Xp14qXVPEnh3Wv7Xtn1f7Mk2oQXcUzW0jCRViRWAAGQcqeuKca1Wy5o/wBaf5/gJ04dGcBFoGsT3MtvDpN9JPDjzYktnLR5GRuGMjj1qi6NHIySKVdThlYYIPpXq9z420G6uNTjgvIYC97FdQ3FxDcbJQsaryIirAgr0PFec+JL8ap4kvb0SRSiaUt5kMbRo3uFYkj8a1o1ak3aUbEThGK0dzMooorpMgooooAVfvD619X6aSdKtCeT5Kf+givlBfvD619X6b/yCbT/AK4J/wCgivEzX7HzO/B9SzRRRXhnoBRRRQAUUUUAFNliSaMpKoZT1Bp1FAFX+zbP/n3Sj+zbP/n3SrVFAFX+zbP/AJ90o/s2z/590q1RQBV/s2z/AOfdKP7Ns/8An3SrVFAFX+zbP/ngtH9m2f8Az7pVqigCr/Ztn/z7pR/Ztn/z7pVqigCr/Ztn/wA+6Uf2bZ/8+6VaooAq/wBm2f8Az7pR/Ztn/wA+6VaooAq/2bZ/8+6Uf2bZ/wDPulWqKAKv9m2f/PulH9m2f/PulWqKAKv9m2f/AD7pR/Ztn/z7pVqigCr/AGbZ/wDPBaP7Ns/+fdKtUUAVf7Ns/wDn3Sj+zbP/AJ90q1RQBV/s2z/590o/s2z/AOfdKtUUAVf7Ns/+eC0f2bZ/8+6VaooAq/2bZ/8APulH9m2f/PulWqKAKv8AZtn/AM+6Uf2bZ/8APulWqKAKv9m2f/PulH9m2f8Az7pVqigCr/Ztn/z7pR/Ztn/z7pVqigCr/Ztn/wA+6Uf2bZ/8+6VaooAq/wBm2f8Az7pR/Ztn/wA+6VaooAq/2bZ/88Fo/s2z/wCfdKtUUAVf7Ns/+fdKP7Ns/wDn3SrVFAFX+zbP/n3Sj+zbP/n3SrVFAFX+zbP/AJ90qeGCOBNsKBFznAp9FABRRRQAUUUUAFFFFABRRRQAVBf2UOo6dc2VyCYbmJopADg7WGD/ADqeijYD5+1T4SeKbO+ePT7RNQgz8k0cyJkdsh2BB/P61T/4Vd4z/wCgI3/gVB/8XX0bRXprM66VtP6+ZyPCUz5y/wCFXeM/+gI3/gVB/wDF0f8ACrvGf/QEb/wKg/8Ai6+jaKf9qV+y/r5h9Up+Z85f8Ku8Z/8AQEb/AMCoP/i6P+FXeM/+gI3/AIFQf/F19G0Uf2pX7L+vmH1Sn5nzl/wq7xn/ANARv/AqD/4uj/hV3jP/AKAjf+BUH/xdfRtFH9qV+y/r5h9Up+Z85f8ACrvGf/QEb/wKg/8Ai6P+FXeM/wDoCN/4FQf/ABdfRtFH9qV+y/r5h9Up+Z85f8Ku8Z/9ARv/AAKg/wDi6Vfhb4zLAHRSuT1N1Dgf+P19GUUf2pX7L+vmH1Sn5nJfD3wafB+iypcyLJe3TB5yn3VwOFB74yefeutoorzqk5VJOUt2dMYqKsgoooqCgooooA5bx/4QPi/QFt7eRYry3fzIGf7pOMFT6A+vsK8df4W+MlcgaNvAPDLdQ4P5vX0XRXbQxtWhHljsYVKEKjuz5y/4Vd4z/wCgI3/gVB/8XR/wq7xn/wBARv8AwKg/+Lr6Norf+1K/Zf18zP6pT8z5y/4Vd4z/AOgI3/gVB/8AF0f8Ku8Z/wDQEb/wKg/+Lr6Noo/tSv2X9fMPqlPzPnL/AIVd4z/6Ajf+BUH/AMXR/wAKu8Z/9ARv/AqD/wCLr6Noo/tSv2X9fMPqlPzPnL/hV3jP/oCN/wCBUH/xdH/CrvGf/QEb/wACoP8A4uvo2ij+1K/Zf18w+qU/M+cv+FXeM/8AoCN/4FQf/F0f8Ku8Z/8AQEb/AMCoP/i6+jaKP7Ur9l/XzD6pT8z5y/4Vd4z/AOgI3/gVB/8AF0f8Ku8Z/wDQEb/wKg/+Lr6Noo/tSv2X9fMPqlPzPnL/AIVd4z/6Ajf+BUH/AMXR/wAKu8Z/9ARv/AqD/wCLr6Noo/tSv2X9fMPqlPzPnL/hV3jP/oCN/wCBUH/xdH/CrvGf/QEb/wACoP8A4uvo2ij+1K/Zf18w+qU/M8F0L4ReIbzUoxrNuunWisDKzTI7MvcKEJ59zj+le8oixxqiDaqjAA7Clorkr4mpXac+htTpRpr3QooormNQooooAKKKKACiiigAooooAKKKKACiiigAooooAKKKKACiiigAooooAKKKKACiiigAooooAKKKKACiiigAooooAKKKKACiiigAooooAKKKKACiiigAooooAKKKKACiiigAooooAKKKKACiiigAooooAKKKKACiiigAooooAKKKKACiiigAooooAKKKKACiiigAooooAKKKKACiiigAooooAKKKKACiiigAooooAKKKKACiiigAooooAKKKKACiiigAooooAKKKKACiiigAooooAKKKKACiiigAooooAKKKKACiiigAooooAKKKKACiiigAooooAKKKKACiiigAooooAKKKKACiiigAooooAKKKKACiiigAooooAKKKKACiiigAooooAKKKKACiiigAooooAKKKKACiiigAooooAKKKKACiiigAooooAKKKKACiiigAooooAKKKKACiiigAooooAKKKKACiiigAooooAKKKKACiiigAooooAKKKKACiiigAooooAKKKKACiiigAooooAKKKKACiiigAooooAKKKKACiiigD/9k=)"
      ],
      "metadata": {
        "id": "RUoDVyQQzUZ-"
      }
    },
    {
      "cell_type": "markdown",
      "source": [
        "* Modified Create teams meeting button\n",
        "\n",
        "Original\n",
        "\n",
        "```\n",
        "MicrosoftTeams.CreateTeamsMeeting(\n",
        "    /* users Calendar, do not change row 3 of code*/ \n",
        "    LookUp(Office365Outlook.CalendarGetTables().value, DisplayName = \"Calendar\"). Name,\n",
        "    /* Subject of the meeting, to create variable */\n",
        "    inp_Subject_2.Text, \n",
        "    {content: inp_Body_1.Text, contentType: \"html\"},\n",
        "    \"Singapore Standard Time\",\n",
        "    /* Start of meeting time*/\n",
        "    {dateTime: DateTimeValue(dd_StartTime_1.SelectedText.Value)},\n",
        "    \n",
        "    /* End meeting time*/\n",
        "    {dateTime: DateTimeValue(dd_EndTime_1.SelectedText.Value)},\n",
        "\n",
        "    true, \"teamsForBusiness\",\n",
        "    \n",
        "    // everything below is optional\n",
        "    {\n",
        "    // * Attendees\n",
        "    // requiredAttendees:Concat(cb_RequiredUser.SelectedItems.Mail, \";\"),   \n",
        "        requiredAttendees: \" \",   \n",
        "    // Optional Attendees\n",
        "    optionalAttendees:Concat(cb_OptionalUser_1.SelectedItems.Mail, \";\"),   \n",
        "    // location\n",
        "    location: {displayName: inpt_Location_1.Text},\n",
        "    // Importance\n",
        "    importance: dd_Importance_1.SelectedText.Value,\n",
        "    // isALlDay - if all day is selected, starttime = 00:00, end time = 00:00 \n",
        "    isAllDay: tgAllDay_1.Value,\n",
        "    // Status to use during meeting: Value: \n",
        "    showAs: \"Busy\",\n",
        "    // Confirmation receipt\n",
        "    responseRequested: true\n",
        "    }\n",
        ")\n",
        "```\n",
        "\n"
      ],
      "metadata": {
        "id": "qKoJMjpPzdXw"
      }
    },
    {
      "cell_type": "markdown",
      "source": [
        "* Modified\n",
        "\n",
        "```\n",
        "MicrosoftTeams.CreateTeamsMeeting(\n",
        "    /* users Calendar, do not change row 3 of code*/ \n",
        "    LookUp(Office365Outlook.CalendarGetTables().value, DisplayName = \"Calendar\"). Name,\n",
        "    /* Subject of the meeting, to create variable */\n",
        "    inp_Subject.Text, \n",
        "    {content: inp_Body.Text, contentType: \"html\"},\n",
        "    \"Singapore Standard Time\",\n",
        "    /* Start of meeting date & time*/\n",
        "    {dateTime: Text(startTime,DateTimeFormat.ShortDate) & \" \" & Text(startTime,DateTimeFormat.ShortTime)},\n",
        "    \n",
        "    /* End meeting date & time*/\n",
        "    {dateTime: Text(endTime,DateTimeFormat.ShortDate) & \" \" & Text(endTime,DateTimeFormat.ShortTime)},\n",
        "\n",
        "    true, \"teamsForBusiness\",\n",
        "    \n",
        "    // everything below is optional\n",
        "    {\n",
        "    // * Attendees\n",
        "    // requiredAttendees:Concat(cb_RequiredUser.SelectedItems.Mail, \";\"),   \n",
        "        requiredAttendees: \" \",   \n",
        "    // Optional Attendees\n",
        "    optionalAttendees:Concat(cb_OptionalUser.SelectedItems.Mail, \";\"),   \n",
        "    // location\n",
        "    location: {displayName: inpt_Location.Text},\n",
        "    // Importance\n",
        "    importance: dd_Importance.SelectedText.Value,\n",
        "    // isALlDay - if all day is selected, starttime = 00:00, end time = 00:00 \n",
        "    isAllDay: tgAllDay.Value,\n",
        "    // Status to use during meeting: Value: \n",
        "    showAs: \"Busy\",\n",
        "    // Confirmation receipt\n",
        "    responseRequested: true\n",
        "    }\n",
        ")\n",
        "```"
      ],
      "metadata": {
        "id": "pVTdbsnuz54M"
      }
    },
    {
      "cell_type": "code",
      "source": [
        ""
      ],
      "metadata": {
        "id": "lic6uB3R4kS0"
      },
      "execution_count": null,
      "outputs": []
    }
  ]
}